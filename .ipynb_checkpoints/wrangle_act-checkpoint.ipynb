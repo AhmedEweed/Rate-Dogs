{
 "cells": [
  {
   "cell_type": "code",
   "execution_count": 8,
   "metadata": {},
   "outputs": [],
   "source": [
    "# Import required libraries\n",
    "\n",
    "import requests\n",
    "import tweepy\n",
    "import pandas as pd\n",
    "import json\n",
    "import datetime \n",
    "import matplotlib.pyplot as plt"
   ]
  },
  {
   "cell_type": "markdown",
   "metadata": {},
   "source": [
    "## Gather"
   ]
  },
  {
   "cell_type": "code",
   "execution_count": 3,
   "metadata": {},
   "outputs": [],
   "source": [
    "# Download the tweet image predictions tsv file via requests library\n",
    "\n",
    "url = 'https://d17h27t6h515a5.cloudfront.net/topher/2017/August/599fd2ad_image-predictions/image-predictions.tsv'\n",
    "response = requests.get(url)\n",
    "with open(url.split('/')[-1], mode = 'wb') as file:\n",
    "    file.write(response.content)"
   ]
  },
  {
   "cell_type": "code",
   "execution_count": 9,
   "metadata": {},
   "outputs": [],
   "source": [
    "# Read `image_predictions.tsv` file\n",
    "\n",
    "predict_dog = pd.read_csv('image-predictions.tsv', sep = '\\t')"
   ]
  },
  {
   "cell_type": "code",
   "execution_count": 10,
   "metadata": {},
   "outputs": [],
   "source": [
    "# Read `twitter archive enhanced.csv` file to get tweet ids for API\n",
    "\n",
    "twitter_df = pd.read_csv('twitter-archive-enhanced.csv')\n",
    "# extract tweet ids only for use in API\n",
    "\n",
    "tweet_id = twitter_df['tweet_id']"
   ]
  },
  {
   "cell_type": "code",
   "execution_count": 11,
   "metadata": {},
   "outputs": [],
   "source": [
    "# Authenticate Tweepy API\n",
    "\n",
    "consumer_key = ''\n",
    "consumer_secret = ''\n",
    "access_token = ''\n",
    "access_secret = ''\n",
    "\n",
    "auth = tweepy.OAuthHandler(consumer_key, consumer_secret)\n",
    "auth.set_access_token(access_token, access_secret)\n",
    "api = tweepy.API(auth, wait_on_rate_limit = True, wait_on_rate_limit_notify = True,\n",
    "                 parser=tweepy.parsers.JSONParser())"
   ]
  },
  {
   "cell_type": "code",
   "execution_count": 12,
   "metadata": {
    "scrolled": false
   },
   "outputs": [
    {
     "name": "stderr",
     "output_type": "stream",
     "text": [
      "Rate limit reached. Sleeping for: 232\n"
     ]
    }
   ],
   "source": [
    "# Get tweet JSON data using tweet_id via Tweepy \n",
    "\n",
    "tweet_json = []\n",
    "error_list = []\n",
    "for i in tweet_id:\n",
    "    try:\n",
    "        tweet = api.get_status(i, tweet_mode = 'extended')\n",
    "        tweet_json.append(tweet)\n",
    "    except:\n",
    "        error_list.append(i)\n",
    "        continue"
   ]
  },
  {
   "cell_type": "code",
   "execution_count": 13,
   "metadata": {},
   "outputs": [],
   "source": [
    "# Write JSON data to tweet_json.txt file with each tweet's JSON data on its own line\n",
    "\n",
    "with open('tweet_json.txt', 'w') as outfile:\n",
    "    json.dump(tweet_json, outfile, indent = True)"
   ]
  },
  {
   "cell_type": "code",
   "execution_count": 14,
   "metadata": {},
   "outputs": [],
   "source": [
    "# Read tweet_json.txt file into a pandas data frame \n",
    "\n",
    "pd_json = pd.read_json('tweet_json.txt', orient = 'columns')"
   ]
  },
  {
   "cell_type": "code",
   "execution_count": 15,
   "metadata": {},
   "outputs": [],
   "source": [
    "# Extract only needed columns (tweet_id, favorite_count, retweet_count)\n",
    "# Save it to tweet_json\n",
    "\n",
    "tweet_json = pd_json[['id','favorite_count','retweet_count']]"
   ]
  },
  {
   "cell_type": "markdown",
   "metadata": {},
   "source": [
    "# Assess"
   ]
  },
  {
   "cell_type": "markdown",
   "metadata": {},
   "source": [
    "### Quality\n",
    "##### `twitter_df` table\n",
    "- some tweets was deleted or invalid (2356 instead of 2345)\n",
    "- missing data in `in_reply_to_status_id` column\n",
    "- missing data in `in_reply_to_user_id` column\n",
    "- missing data in `retweeted_status_id` column\n",
    "- missing data in `retweeted_status_user_id` column\n",
    "- missing data in `retweeted_status_timestamp` column\n",
    "- `source` and `expanded_urls` columns are not relevant to our analysis\n",
    "- `name` content is not always a name, sometimes it's an adjective or articles\n",
    "- some records have values in `rating_denominator` column that are not correct\n",
    "\n",
    "\n",
    "##### `predict_dog` table\n",
    "- missing records because some tweets are without images (2075 instead of 2356) or invalid or deleted\n",
    "- not all images are for dogs! some images are for other animals\n",
    "- `jpg_url` and `img_num` columns are not releveant to our analysis\n",
    "\n",
    "##### `tweet_json` table\n",
    "- `id` column name is not consistent with other tables same column names"
   ]
  },
  {
   "cell_type": "markdown",
   "metadata": {},
   "source": [
    "### Tidiness\n",
    "##### `twitter_df` table\n",
    "- `doggo`, `floofer`, `pupper` and `puppo` should be values for a `stage` column not seperate columns\n",
    "- `time stamp` column should be two separate columns for `date` and `time`\n",
    "\n",
    "##### `tweet_json` table\n",
    "- the whole table should be merged with `twitter_df` table "
   ]
  },
  {
   "cell_type": "code",
   "execution_count": 16,
   "metadata": {},
   "outputs": [],
   "source": [
    "# Make a copy of the datasets to work with and clean\n",
    "\n",
    "twitter_df_clean = twitter_df.copy()\n",
    "predict_dog_clean = predict_dog.copy()\n",
    "tweet_json_clean = tweet_json.copy()"
   ]
  },
  {
   "cell_type": "markdown",
   "metadata": {},
   "source": [
    "# Clean\n",
    "### Define\n",
    "### Quality \n",
    "##### `twitter_df_clean` table\n",
    "- remove all records with ids in `error_list`"
   ]
  },
  {
   "cell_type": "markdown",
   "metadata": {},
   "source": [
    "### Code"
   ]
  },
  {
   "cell_type": "code",
   "execution_count": 17,
   "metadata": {},
   "outputs": [],
   "source": [
    "# remove all records with ids in `error_list`\n",
    "\n",
    "for record in error_list:\n",
    "    twitter_df_clean.drop(twitter_df_clean[twitter_df_clean.tweet_id == record].index, inplace = True)"
   ]
  },
  {
   "cell_type": "markdown",
   "metadata": {},
   "source": [
    "### Test"
   ]
  },
  {
   "cell_type": "code",
   "execution_count": 18,
   "metadata": {},
   "outputs": [
    {
     "data": {
      "text/plain": [
       "False    2344\n",
       "Name: tweet_id, dtype: int64"
      ]
     },
     "execution_count": 18,
     "metadata": {},
     "output_type": "execute_result"
    }
   ],
   "source": [
    "# check if any record with id from error_list still exists!\n",
    "\n",
    "twitter_df_clean['tweet_id'].isin(error_list).value_counts()"
   ]
  },
  {
   "cell_type": "markdown",
   "metadata": {},
   "source": [
    "### Define\n",
    "### Quality\n",
    "##### `twitter_df_clean` table\n",
    "- drop `in_reply_to_status_id`, `in_reply_to_user_id`, `retweeted_status_id`,  \n",
    "  `retweeted_status_user_id`, `retweeted_status_timestamp`, `source` and `expanded_urls` columns"
   ]
  },
  {
   "cell_type": "markdown",
   "metadata": {},
   "source": [
    "### Code"
   ]
  },
  {
   "cell_type": "code",
   "execution_count": 19,
   "metadata": {},
   "outputs": [],
   "source": [
    "# drop 'in_reply_to_status_id', 'in_reply_to_user_id', 'retweeted_status_id',\n",
    "# 'retweeted_status_user_id' and 'retweeted_status_timestamp' columns from `twitter_df_clean` table\n",
    "\n",
    "twitter_df_clean.drop(columns = ['in_reply_to_status_id', 'in_reply_to_user_id',\n",
    "                                 'retweeted_status_id', 'retweeted_status_user_id',\n",
    "                                 'retweeted_status_timestamp', \n",
    "                                 'source', 'expanded_urls'], inplace = True)"
   ]
  },
  {
   "cell_type": "markdown",
   "metadata": {},
   "source": [
    "### Test"
   ]
  },
  {
   "cell_type": "code",
   "execution_count": 20,
   "metadata": {
    "scrolled": false
   },
   "outputs": [
    {
     "data": {
      "text/html": [
       "<div>\n",
       "<style scoped>\n",
       "    .dataframe tbody tr th:only-of-type {\n",
       "        vertical-align: middle;\n",
       "    }\n",
       "\n",
       "    .dataframe tbody tr th {\n",
       "        vertical-align: top;\n",
       "    }\n",
       "\n",
       "    .dataframe thead th {\n",
       "        text-align: right;\n",
       "    }\n",
       "</style>\n",
       "<table border=\"1\" class=\"dataframe\">\n",
       "  <thead>\n",
       "    <tr style=\"text-align: right;\">\n",
       "      <th></th>\n",
       "      <th>tweet_id</th>\n",
       "      <th>timestamp</th>\n",
       "      <th>text</th>\n",
       "      <th>rating_numerator</th>\n",
       "      <th>rating_denominator</th>\n",
       "      <th>name</th>\n",
       "      <th>doggo</th>\n",
       "      <th>floofer</th>\n",
       "      <th>pupper</th>\n",
       "      <th>puppo</th>\n",
       "    </tr>\n",
       "  </thead>\n",
       "  <tbody>\n",
       "    <tr>\n",
       "      <th>2351</th>\n",
       "      <td>666049248165822465</td>\n",
       "      <td>2015-11-16 00:24:50 +0000</td>\n",
       "      <td>Here we have a 1949 1st generation vulpix. Enj...</td>\n",
       "      <td>5</td>\n",
       "      <td>10</td>\n",
       "      <td>None</td>\n",
       "      <td>None</td>\n",
       "      <td>None</td>\n",
       "      <td>None</td>\n",
       "      <td>None</td>\n",
       "    </tr>\n",
       "    <tr>\n",
       "      <th>2352</th>\n",
       "      <td>666044226329800704</td>\n",
       "      <td>2015-11-16 00:04:52 +0000</td>\n",
       "      <td>This is a purebred Piers Morgan. Loves to Netf...</td>\n",
       "      <td>6</td>\n",
       "      <td>10</td>\n",
       "      <td>a</td>\n",
       "      <td>None</td>\n",
       "      <td>None</td>\n",
       "      <td>None</td>\n",
       "      <td>None</td>\n",
       "    </tr>\n",
       "    <tr>\n",
       "      <th>2353</th>\n",
       "      <td>666033412701032449</td>\n",
       "      <td>2015-11-15 23:21:54 +0000</td>\n",
       "      <td>Here is a very happy pup. Big fan of well-main...</td>\n",
       "      <td>9</td>\n",
       "      <td>10</td>\n",
       "      <td>a</td>\n",
       "      <td>None</td>\n",
       "      <td>None</td>\n",
       "      <td>None</td>\n",
       "      <td>None</td>\n",
       "    </tr>\n",
       "    <tr>\n",
       "      <th>2354</th>\n",
       "      <td>666029285002620928</td>\n",
       "      <td>2015-11-15 23:05:30 +0000</td>\n",
       "      <td>This is a western brown Mitsubishi terrier. Up...</td>\n",
       "      <td>7</td>\n",
       "      <td>10</td>\n",
       "      <td>a</td>\n",
       "      <td>None</td>\n",
       "      <td>None</td>\n",
       "      <td>None</td>\n",
       "      <td>None</td>\n",
       "    </tr>\n",
       "    <tr>\n",
       "      <th>2355</th>\n",
       "      <td>666020888022790149</td>\n",
       "      <td>2015-11-15 22:32:08 +0000</td>\n",
       "      <td>Here we have a Japanese Irish Setter. Lost eye...</td>\n",
       "      <td>8</td>\n",
       "      <td>10</td>\n",
       "      <td>None</td>\n",
       "      <td>None</td>\n",
       "      <td>None</td>\n",
       "      <td>None</td>\n",
       "      <td>None</td>\n",
       "    </tr>\n",
       "  </tbody>\n",
       "</table>\n",
       "</div>"
      ],
      "text/plain": [
       "                tweet_id                  timestamp  \\\n",
       "2351  666049248165822465  2015-11-16 00:24:50 +0000   \n",
       "2352  666044226329800704  2015-11-16 00:04:52 +0000   \n",
       "2353  666033412701032449  2015-11-15 23:21:54 +0000   \n",
       "2354  666029285002620928  2015-11-15 23:05:30 +0000   \n",
       "2355  666020888022790149  2015-11-15 22:32:08 +0000   \n",
       "\n",
       "                                                   text  rating_numerator  \\\n",
       "2351  Here we have a 1949 1st generation vulpix. Enj...                 5   \n",
       "2352  This is a purebred Piers Morgan. Loves to Netf...                 6   \n",
       "2353  Here is a very happy pup. Big fan of well-main...                 9   \n",
       "2354  This is a western brown Mitsubishi terrier. Up...                 7   \n",
       "2355  Here we have a Japanese Irish Setter. Lost eye...                 8   \n",
       "\n",
       "      rating_denominator  name doggo floofer pupper puppo  \n",
       "2351                  10  None  None    None   None  None  \n",
       "2352                  10     a  None    None   None  None  \n",
       "2353                  10     a  None    None   None  None  \n",
       "2354                  10     a  None    None   None  None  \n",
       "2355                  10  None  None    None   None  None  "
      ]
     },
     "execution_count": 20,
     "metadata": {},
     "output_type": "execute_result"
    }
   ],
   "source": [
    "# look at the data frame to see the columns is removed\n",
    "\n",
    "twitter_df_clean.tail()"
   ]
  },
  {
   "cell_type": "markdown",
   "metadata": {},
   "source": [
    "### Define\n",
    "### Quality\n",
    "##### `twitter_df_clean` table\n",
    "-  remove non-dog contents to ensure they are dog only records"
   ]
  },
  {
   "cell_type": "markdown",
   "metadata": {},
   "source": [
    "### Code"
   ]
  },
  {
   "cell_type": "code",
   "execution_count": 21,
   "metadata": {},
   "outputs": [],
   "source": [
    "# make sure all records are for dogs by matching the `predict_dog_clean` non-dog ids with ones in `twitter_df_clean`\n",
    "\n",
    "non_dogs = predict_dog_clean[(predict_dog_clean.p1_dog == False)\n",
    "                                         | (predict_dog_clean.p2_dog == False)\n",
    "                                         | (predict_dog_clean.p3_dog == False)].tweet_id"
   ]
  },
  {
   "cell_type": "code",
   "execution_count": 22,
   "metadata": {},
   "outputs": [],
   "source": [
    "# remove all non-dog records in twitter_df_clean\n",
    "\n",
    "for record in non_dogs:\n",
    "    twitter_df_clean.drop(twitter_df_clean[twitter_df_clean.tweet_id == record].index, inplace = True)"
   ]
  },
  {
   "cell_type": "markdown",
   "metadata": {},
   "source": [
    "### Test"
   ]
  },
  {
   "cell_type": "code",
   "execution_count": 23,
   "metadata": {},
   "outputs": [
    {
     "data": {
      "text/plain": [
       "False    1515\n",
       "Name: tweet_id, dtype: int64"
      ]
     },
     "execution_count": 23,
     "metadata": {},
     "output_type": "execute_result"
    }
   ],
   "source": [
    "# check if any record with id from non_dogs still exists!\n",
    "\n",
    "twitter_df_clean['tweet_id'].isin(non_dogs).value_counts()"
   ]
  },
  {
   "cell_type": "markdown",
   "metadata": {},
   "source": [
    "### Define\n",
    "### Quality\n",
    "##### `twitter_df_clean` table\n",
    "-  force `rating_denominator` column to only have values of `10` by removing any other values"
   ]
  },
  {
   "cell_type": "markdown",
   "metadata": {},
   "source": [
    "### Code"
   ]
  },
  {
   "cell_type": "code",
   "execution_count": 25,
   "metadata": {},
   "outputs": [],
   "source": [
    "# remove all values but of '10' in `rate_denominator` column\n",
    "\n",
    "twitter_df_clean.drop(twitter_df_clean[(twitter_df_clean.rating_denominator != 10)].index, inplace = True)"
   ]
  },
  {
   "cell_type": "markdown",
   "metadata": {},
   "source": [
    "### Test"
   ]
  },
  {
   "cell_type": "code",
   "execution_count": 26,
   "metadata": {},
   "outputs": [
    {
     "data": {
      "text/plain": [
       "10    1497\n",
       "Name: rating_denominator, dtype: int64"
      ]
     },
     "execution_count": 26,
     "metadata": {},
     "output_type": "execute_result"
    }
   ],
   "source": [
    "# check if any other values but 10 exist\n",
    "\n",
    "twitter_df_clean['rating_denominator'].value_counts()"
   ]
  },
  {
   "cell_type": "markdown",
   "metadata": {},
   "source": [
    "### Define\n",
    "### Quality \n",
    "##### `predict_dog_clean` table\n",
    "- remove all non dog records by keeping only the records where `p1_dog`, `p2_dog`, `p3_dog` are all `True`"
   ]
  },
  {
   "cell_type": "markdown",
   "metadata": {},
   "source": [
    "### Code"
   ]
  },
  {
   "cell_type": "code",
   "execution_count": 27,
   "metadata": {},
   "outputs": [],
   "source": [
    "# remove all non-dog records by keeping only the records where `p1_dog`, `p2_dog`, `p3_dog` are all `True`\n",
    "\n",
    "predict_dog_clean.drop(predict_dog_clean[(predict_dog_clean.p1_dog == False)\n",
    "                                         | (predict_dog_clean.p2_dog == False)\n",
    "                                         | (predict_dog_clean.p3_dog == False)].index, inplace = True)"
   ]
  },
  {
   "cell_type": "markdown",
   "metadata": {},
   "source": [
    "### Test"
   ]
  },
  {
   "cell_type": "code",
   "execution_count": 28,
   "metadata": {
    "scrolled": false
   },
   "outputs": [
    {
     "data": {
      "text/plain": [
       "False    1243\n",
       "Name: tweet_id, dtype: int64"
      ]
     },
     "execution_count": 28,
     "metadata": {},
     "output_type": "execute_result"
    }
   ],
   "source": [
    "# Check if any non-dog record exists!\n",
    "\n",
    "predict_dog_clean['tweet_id'].isin(non_dogs).value_counts()"
   ]
  },
  {
   "cell_type": "code",
   "execution_count": 29,
   "metadata": {},
   "outputs": [],
   "source": [
    "# reset all indeces in all tables to keep every thing in a consistent manner\n",
    "\n",
    "twitter_df_clean = twitter_df_clean.reset_index()\n",
    "predict_dog_clean = predict_dog_clean.reset_index()"
   ]
  },
  {
   "cell_type": "code",
   "execution_count": 30,
   "metadata": {},
   "outputs": [],
   "source": [
    "# drop all `index` columns in all tables for consistency\n",
    "\n",
    "twitter_df_clean.drop(columns = ['index'], inplace = True)\n",
    "predict_dog_clean.drop(columns = ['index'], inplace = True)"
   ]
  },
  {
   "cell_type": "markdown",
   "metadata": {},
   "source": [
    "### Define\n",
    "### Quality \n",
    "##### `tweet_json_clean` table\n",
    "- rename `id` column to `tweet_id` for consistency with other tables"
   ]
  },
  {
   "cell_type": "markdown",
   "metadata": {},
   "source": [
    "### Code"
   ]
  },
  {
   "cell_type": "code",
   "execution_count": 31,
   "metadata": {},
   "outputs": [],
   "source": [
    "# rename `id` column to `tweet_id` for consistency with other tables\n",
    "\n",
    "tweet_json_clean = tweet_json_clean.rename(columns = {'id' : 'tweet_id'})"
   ]
  },
  {
   "cell_type": "markdown",
   "metadata": {},
   "source": [
    "### Test"
   ]
  },
  {
   "cell_type": "code",
   "execution_count": 32,
   "metadata": {},
   "outputs": [
    {
     "data": {
      "text/html": [
       "<div>\n",
       "<style scoped>\n",
       "    .dataframe tbody tr th:only-of-type {\n",
       "        vertical-align: middle;\n",
       "    }\n",
       "\n",
       "    .dataframe tbody tr th {\n",
       "        vertical-align: top;\n",
       "    }\n",
       "\n",
       "    .dataframe thead th {\n",
       "        text-align: right;\n",
       "    }\n",
       "</style>\n",
       "<table border=\"1\" class=\"dataframe\">\n",
       "  <thead>\n",
       "    <tr style=\"text-align: right;\">\n",
       "      <th></th>\n",
       "      <th>tweet_id</th>\n",
       "      <th>favorite_count</th>\n",
       "      <th>retweet_count</th>\n",
       "    </tr>\n",
       "  </thead>\n",
       "  <tbody>\n",
       "    <tr>\n",
       "      <th>0</th>\n",
       "      <td>892420643555336193</td>\n",
       "      <td>38665</td>\n",
       "      <td>8550</td>\n",
       "    </tr>\n",
       "    <tr>\n",
       "      <th>1</th>\n",
       "      <td>892177421306343426</td>\n",
       "      <td>33128</td>\n",
       "      <td>6286</td>\n",
       "    </tr>\n",
       "    <tr>\n",
       "      <th>2</th>\n",
       "      <td>891815181378084864</td>\n",
       "      <td>24940</td>\n",
       "      <td>4166</td>\n",
       "    </tr>\n",
       "    <tr>\n",
       "      <th>3</th>\n",
       "      <td>891689557279858688</td>\n",
       "      <td>42044</td>\n",
       "      <td>8681</td>\n",
       "    </tr>\n",
       "    <tr>\n",
       "      <th>4</th>\n",
       "      <td>891327558926688256</td>\n",
       "      <td>40194</td>\n",
       "      <td>9439</td>\n",
       "    </tr>\n",
       "  </tbody>\n",
       "</table>\n",
       "</div>"
      ],
      "text/plain": [
       "             tweet_id  favorite_count  retweet_count\n",
       "0  892420643555336193           38665           8550\n",
       "1  892177421306343426           33128           6286\n",
       "2  891815181378084864           24940           4166\n",
       "3  891689557279858688           42044           8681\n",
       "4  891327558926688256           40194           9439"
      ]
     },
     "execution_count": 32,
     "metadata": {},
     "output_type": "execute_result"
    }
   ],
   "source": [
    "# check the column name is changed \n",
    "\n",
    "tweet_json_clean.head()"
   ]
  },
  {
   "cell_type": "markdown",
   "metadata": {},
   "source": [
    "### Define\n",
    "### Quality\n",
    "##### `predict_dog_clean` table\n",
    "- drop `jpg_url` and `img_num` columns"
   ]
  },
  {
   "cell_type": "markdown",
   "metadata": {},
   "source": [
    "### Code"
   ]
  },
  {
   "cell_type": "code",
   "execution_count": 33,
   "metadata": {},
   "outputs": [],
   "source": [
    "# drop `jpg_url` and `img_num` columns from predict_dog_clean table\n",
    "\n",
    "predict_dog_clean.drop(columns = ['jpg_url', 'img_num'], inplace = True)"
   ]
  },
  {
   "cell_type": "markdown",
   "metadata": {},
   "source": [
    "### Define\n",
    "### Tidiness\n",
    "##### `twitter_df_clean` table\n",
    "- melt `doggo`, `floofer`, `pupper` and `puppo` as values for a `stage` column "
   ]
  },
  {
   "cell_type": "markdown",
   "metadata": {},
   "source": [
    "### Code"
   ]
  },
  {
   "cell_type": "code",
   "execution_count": 34,
   "metadata": {
    "scrolled": true
   },
   "outputs": [
    {
     "name": "stderr",
     "output_type": "stream",
     "text": [
      "/home/ahmed/anaconda3/lib/python3.6/site-packages/ipykernel/__main__.py:24: SettingWithCopyWarning: \n",
      "A value is trying to be set on a copy of a slice from a DataFrame\n",
      "\n",
      "See the caveats in the documentation: http://pandas.pydata.org/pandas-docs/stable/indexing.html#indexing-view-versus-copy\n",
      "/home/ahmed/anaconda3/lib/python3.6/site-packages/ipykernel/__main__.py:9: SettingWithCopyWarning: \n",
      "A value is trying to be set on a copy of a slice from a DataFrame\n",
      "\n",
      "See the caveats in the documentation: http://pandas.pydata.org/pandas-docs/stable/indexing.html#indexing-view-versus-copy\n",
      "/home/ahmed/anaconda3/lib/python3.6/site-packages/ipykernel/__main__.py:21: SettingWithCopyWarning: \n",
      "A value is trying to be set on a copy of a slice from a DataFrame\n",
      "\n",
      "See the caveats in the documentation: http://pandas.pydata.org/pandas-docs/stable/indexing.html#indexing-view-versus-copy\n",
      "/home/ahmed/anaconda3/lib/python3.6/site-packages/ipykernel/__main__.py:17: SettingWithCopyWarning: \n",
      "A value is trying to be set on a copy of a slice from a DataFrame\n",
      "\n",
      "See the caveats in the documentation: http://pandas.pydata.org/pandas-docs/stable/indexing.html#indexing-view-versus-copy\n",
      "/home/ahmed/anaconda3/lib/python3.6/site-packages/ipykernel/__main__.py:13: SettingWithCopyWarning: \n",
      "A value is trying to be set on a copy of a slice from a DataFrame\n",
      "\n",
      "See the caveats in the documentation: http://pandas.pydata.org/pandas-docs/stable/indexing.html#indexing-view-versus-copy\n"
     ]
    }
   ],
   "source": [
    "# turn `doggo`, `floofer`, `pupper` and `puppo` as values for a `stage` column \n",
    "\n",
    "twitter_df_clean['stage'] = 'None'\n",
    "\n",
    "for r in range(len(twitter_df_clean)-1):\n",
    "    \n",
    "    if twitter_df_clean['doggo'][r] == 'doggo':\n",
    "        \n",
    "        twitter_df_clean['stage'][r] = 'doggo'\n",
    "    \n",
    "    elif twitter_df_clean['floofer'][r] == 'floofer':\n",
    "        \n",
    "        twitter_df_clean['stage'][r] = 'floofer'\n",
    "\n",
    "    elif twitter_df_clean['pupper'][r] == 'pupper':\n",
    "        \n",
    "        twitter_df_clean['stage'][r] = 'pupper'\n",
    "        \n",
    "    elif twitter_df_clean['puppo'][r] == 'puppo':\n",
    "        \n",
    "        twitter_df_clean['stage'][r] = 'puppo'\n",
    "        \n",
    "    else:\n",
    "        twitter_df_clean['stage'][r] = 'None'    "
   ]
  },
  {
   "cell_type": "code",
   "execution_count": 35,
   "metadata": {},
   "outputs": [],
   "source": [
    "# drop `doggo`, `floofer`, `pupper` and `puppo` columns\n",
    "\n",
    "twitter_df_clean.drop(columns = ['doggo', 'floofer',\n",
    "                                 'pupper', 'puppo'], inplace = True)"
   ]
  },
  {
   "cell_type": "markdown",
   "metadata": {},
   "source": [
    "### Test"
   ]
  },
  {
   "cell_type": "code",
   "execution_count": 36,
   "metadata": {
    "scrolled": false
   },
   "outputs": [
    {
     "data": {
      "text/plain": [
       "None       1242\n",
       "pupper      156\n",
       "doggo        67\n",
       "puppo        24\n",
       "floofer       8\n",
       "Name: stage, dtype: int64"
      ]
     },
     "execution_count": 36,
     "metadata": {},
     "output_type": "execute_result"
    }
   ],
   "source": [
    "# check stage values are in place\n",
    "\n",
    "twitter_df_clean['stage'].value_counts()"
   ]
  },
  {
   "cell_type": "code",
   "execution_count": 37,
   "metadata": {},
   "outputs": [
    {
     "data": {
      "text/html": [
       "<div>\n",
       "<style scoped>\n",
       "    .dataframe tbody tr th:only-of-type {\n",
       "        vertical-align: middle;\n",
       "    }\n",
       "\n",
       "    .dataframe tbody tr th {\n",
       "        vertical-align: top;\n",
       "    }\n",
       "\n",
       "    .dataframe thead th {\n",
       "        text-align: right;\n",
       "    }\n",
       "</style>\n",
       "<table border=\"1\" class=\"dataframe\">\n",
       "  <thead>\n",
       "    <tr style=\"text-align: right;\">\n",
       "      <th></th>\n",
       "      <th>tweet_id</th>\n",
       "      <th>timestamp</th>\n",
       "      <th>text</th>\n",
       "      <th>rating_numerator</th>\n",
       "      <th>rating_denominator</th>\n",
       "      <th>name</th>\n",
       "      <th>stage</th>\n",
       "    </tr>\n",
       "  </thead>\n",
       "  <tbody>\n",
       "    <tr>\n",
       "      <th>0</th>\n",
       "      <td>892177421306343426</td>\n",
       "      <td>2017-08-01 00:17:27 +0000</td>\n",
       "      <td>This is Tilly. She's just checking pup on you....</td>\n",
       "      <td>13</td>\n",
       "      <td>10</td>\n",
       "      <td>Tilly</td>\n",
       "      <td>None</td>\n",
       "    </tr>\n",
       "    <tr>\n",
       "      <th>1</th>\n",
       "      <td>891815181378084864</td>\n",
       "      <td>2017-07-31 00:18:03 +0000</td>\n",
       "      <td>This is Archie. He is a rare Norwegian Pouncin...</td>\n",
       "      <td>12</td>\n",
       "      <td>10</td>\n",
       "      <td>Archie</td>\n",
       "      <td>None</td>\n",
       "    </tr>\n",
       "    <tr>\n",
       "      <th>2</th>\n",
       "      <td>891327558926688256</td>\n",
       "      <td>2017-07-29 16:00:24 +0000</td>\n",
       "      <td>This is Franklin. He would like you to stop ca...</td>\n",
       "      <td>12</td>\n",
       "      <td>10</td>\n",
       "      <td>Franklin</td>\n",
       "      <td>None</td>\n",
       "    </tr>\n",
       "    <tr>\n",
       "      <th>3</th>\n",
       "      <td>890729181411237888</td>\n",
       "      <td>2017-07-28 00:22:40 +0000</td>\n",
       "      <td>When you watch your owner call another dog a g...</td>\n",
       "      <td>13</td>\n",
       "      <td>10</td>\n",
       "      <td>None</td>\n",
       "      <td>None</td>\n",
       "    </tr>\n",
       "    <tr>\n",
       "      <th>4</th>\n",
       "      <td>890609185150312448</td>\n",
       "      <td>2017-07-27 16:25:51 +0000</td>\n",
       "      <td>This is Zoey. She doesn't want to be one of th...</td>\n",
       "      <td>13</td>\n",
       "      <td>10</td>\n",
       "      <td>Zoey</td>\n",
       "      <td>None</td>\n",
       "    </tr>\n",
       "    <tr>\n",
       "      <th>5</th>\n",
       "      <td>890240255349198849</td>\n",
       "      <td>2017-07-26 15:59:51 +0000</td>\n",
       "      <td>This is Cassie. She is a college pup. Studying...</td>\n",
       "      <td>14</td>\n",
       "      <td>10</td>\n",
       "      <td>Cassie</td>\n",
       "      <td>doggo</td>\n",
       "    </tr>\n",
       "    <tr>\n",
       "      <th>6</th>\n",
       "      <td>890006608113172480</td>\n",
       "      <td>2017-07-26 00:31:25 +0000</td>\n",
       "      <td>This is Koda. He is a South Australian decksha...</td>\n",
       "      <td>13</td>\n",
       "      <td>10</td>\n",
       "      <td>Koda</td>\n",
       "      <td>None</td>\n",
       "    </tr>\n",
       "    <tr>\n",
       "      <th>7</th>\n",
       "      <td>889665388333682689</td>\n",
       "      <td>2017-07-25 01:55:32 +0000</td>\n",
       "      <td>Here's a puppo that seems to be on the fence a...</td>\n",
       "      <td>13</td>\n",
       "      <td>10</td>\n",
       "      <td>None</td>\n",
       "      <td>puppo</td>\n",
       "    </tr>\n",
       "    <tr>\n",
       "      <th>8</th>\n",
       "      <td>889638837579907072</td>\n",
       "      <td>2017-07-25 00:10:02 +0000</td>\n",
       "      <td>This is Ted. He does his best. Sometimes that'...</td>\n",
       "      <td>12</td>\n",
       "      <td>10</td>\n",
       "      <td>Ted</td>\n",
       "      <td>None</td>\n",
       "    </tr>\n",
       "    <tr>\n",
       "      <th>9</th>\n",
       "      <td>889531135344209921</td>\n",
       "      <td>2017-07-24 17:02:04 +0000</td>\n",
       "      <td>This is Stuart. He's sporting his favorite fan...</td>\n",
       "      <td>13</td>\n",
       "      <td>10</td>\n",
       "      <td>Stuart</td>\n",
       "      <td>puppo</td>\n",
       "    </tr>\n",
       "    <tr>\n",
       "      <th>10</th>\n",
       "      <td>889278841981685760</td>\n",
       "      <td>2017-07-24 00:19:32 +0000</td>\n",
       "      <td>This is Oliver. You're witnessing one of his m...</td>\n",
       "      <td>13</td>\n",
       "      <td>10</td>\n",
       "      <td>Oliver</td>\n",
       "      <td>None</td>\n",
       "    </tr>\n",
       "    <tr>\n",
       "      <th>11</th>\n",
       "      <td>888917238123831296</td>\n",
       "      <td>2017-07-23 00:22:39 +0000</td>\n",
       "      <td>This is Jim. He found a fren. Taught him how t...</td>\n",
       "      <td>12</td>\n",
       "      <td>10</td>\n",
       "      <td>Jim</td>\n",
       "      <td>None</td>\n",
       "    </tr>\n",
       "    <tr>\n",
       "      <th>12</th>\n",
       "      <td>888804989199671297</td>\n",
       "      <td>2017-07-22 16:56:37 +0000</td>\n",
       "      <td>This is Zeke. He has a new stick. Very proud o...</td>\n",
       "      <td>13</td>\n",
       "      <td>10</td>\n",
       "      <td>Zeke</td>\n",
       "      <td>None</td>\n",
       "    </tr>\n",
       "    <tr>\n",
       "      <th>13</th>\n",
       "      <td>888554962724278272</td>\n",
       "      <td>2017-07-22 00:23:06 +0000</td>\n",
       "      <td>This is Ralphus. He's powering up. Attempting ...</td>\n",
       "      <td>13</td>\n",
       "      <td>10</td>\n",
       "      <td>Ralphus</td>\n",
       "      <td>None</td>\n",
       "    </tr>\n",
       "    <tr>\n",
       "      <th>14</th>\n",
       "      <td>888078434458587136</td>\n",
       "      <td>2017-07-20 16:49:33 +0000</td>\n",
       "      <td>This is Gerald. He was just told he didn't get...</td>\n",
       "      <td>12</td>\n",
       "      <td>10</td>\n",
       "      <td>Gerald</td>\n",
       "      <td>None</td>\n",
       "    </tr>\n",
       "    <tr>\n",
       "      <th>15</th>\n",
       "      <td>887705289381826560</td>\n",
       "      <td>2017-07-19 16:06:48 +0000</td>\n",
       "      <td>This is Jeffrey. He has a monopoly on the pool...</td>\n",
       "      <td>13</td>\n",
       "      <td>10</td>\n",
       "      <td>Jeffrey</td>\n",
       "      <td>None</td>\n",
       "    </tr>\n",
       "    <tr>\n",
       "      <th>16</th>\n",
       "      <td>887473957103951883</td>\n",
       "      <td>2017-07-19 00:47:34 +0000</td>\n",
       "      <td>This is Canela. She attempted some fancy porch...</td>\n",
       "      <td>13</td>\n",
       "      <td>10</td>\n",
       "      <td>Canela</td>\n",
       "      <td>None</td>\n",
       "    </tr>\n",
       "    <tr>\n",
       "      <th>17</th>\n",
       "      <td>887101392804085760</td>\n",
       "      <td>2017-07-18 00:07:08 +0000</td>\n",
       "      <td>This... is a Jubilant Antarctic House Bear. We...</td>\n",
       "      <td>12</td>\n",
       "      <td>10</td>\n",
       "      <td>None</td>\n",
       "      <td>None</td>\n",
       "    </tr>\n",
       "    <tr>\n",
       "      <th>18</th>\n",
       "      <td>886736880519319552</td>\n",
       "      <td>2017-07-16 23:58:41 +0000</td>\n",
       "      <td>This is Mingus. He's a wonderful father to his...</td>\n",
       "      <td>13</td>\n",
       "      <td>10</td>\n",
       "      <td>Mingus</td>\n",
       "      <td>None</td>\n",
       "    </tr>\n",
       "    <tr>\n",
       "      <th>19</th>\n",
       "      <td>886366144734445568</td>\n",
       "      <td>2017-07-15 23:25:31 +0000</td>\n",
       "      <td>This is Roscoe. Another pupper fallen victim t...</td>\n",
       "      <td>12</td>\n",
       "      <td>10</td>\n",
       "      <td>Roscoe</td>\n",
       "      <td>pupper</td>\n",
       "    </tr>\n",
       "  </tbody>\n",
       "</table>\n",
       "</div>"
      ],
      "text/plain": [
       "              tweet_id                  timestamp  \\\n",
       "0   892177421306343426  2017-08-01 00:17:27 +0000   \n",
       "1   891815181378084864  2017-07-31 00:18:03 +0000   \n",
       "2   891327558926688256  2017-07-29 16:00:24 +0000   \n",
       "3   890729181411237888  2017-07-28 00:22:40 +0000   \n",
       "4   890609185150312448  2017-07-27 16:25:51 +0000   \n",
       "5   890240255349198849  2017-07-26 15:59:51 +0000   \n",
       "6   890006608113172480  2017-07-26 00:31:25 +0000   \n",
       "7   889665388333682689  2017-07-25 01:55:32 +0000   \n",
       "8   889638837579907072  2017-07-25 00:10:02 +0000   \n",
       "9   889531135344209921  2017-07-24 17:02:04 +0000   \n",
       "10  889278841981685760  2017-07-24 00:19:32 +0000   \n",
       "11  888917238123831296  2017-07-23 00:22:39 +0000   \n",
       "12  888804989199671297  2017-07-22 16:56:37 +0000   \n",
       "13  888554962724278272  2017-07-22 00:23:06 +0000   \n",
       "14  888078434458587136  2017-07-20 16:49:33 +0000   \n",
       "15  887705289381826560  2017-07-19 16:06:48 +0000   \n",
       "16  887473957103951883  2017-07-19 00:47:34 +0000   \n",
       "17  887101392804085760  2017-07-18 00:07:08 +0000   \n",
       "18  886736880519319552  2017-07-16 23:58:41 +0000   \n",
       "19  886366144734445568  2017-07-15 23:25:31 +0000   \n",
       "\n",
       "                                                 text  rating_numerator  \\\n",
       "0   This is Tilly. She's just checking pup on you....                13   \n",
       "1   This is Archie. He is a rare Norwegian Pouncin...                12   \n",
       "2   This is Franklin. He would like you to stop ca...                12   \n",
       "3   When you watch your owner call another dog a g...                13   \n",
       "4   This is Zoey. She doesn't want to be one of th...                13   \n",
       "5   This is Cassie. She is a college pup. Studying...                14   \n",
       "6   This is Koda. He is a South Australian decksha...                13   \n",
       "7   Here's a puppo that seems to be on the fence a...                13   \n",
       "8   This is Ted. He does his best. Sometimes that'...                12   \n",
       "9   This is Stuart. He's sporting his favorite fan...                13   \n",
       "10  This is Oliver. You're witnessing one of his m...                13   \n",
       "11  This is Jim. He found a fren. Taught him how t...                12   \n",
       "12  This is Zeke. He has a new stick. Very proud o...                13   \n",
       "13  This is Ralphus. He's powering up. Attempting ...                13   \n",
       "14  This is Gerald. He was just told he didn't get...                12   \n",
       "15  This is Jeffrey. He has a monopoly on the pool...                13   \n",
       "16  This is Canela. She attempted some fancy porch...                13   \n",
       "17  This... is a Jubilant Antarctic House Bear. We...                12   \n",
       "18  This is Mingus. He's a wonderful father to his...                13   \n",
       "19  This is Roscoe. Another pupper fallen victim t...                12   \n",
       "\n",
       "    rating_denominator      name   stage  \n",
       "0                   10     Tilly    None  \n",
       "1                   10    Archie    None  \n",
       "2                   10  Franklin    None  \n",
       "3                   10      None    None  \n",
       "4                   10      Zoey    None  \n",
       "5                   10    Cassie   doggo  \n",
       "6                   10      Koda    None  \n",
       "7                   10      None   puppo  \n",
       "8                   10       Ted    None  \n",
       "9                   10    Stuart   puppo  \n",
       "10                  10    Oliver    None  \n",
       "11                  10       Jim    None  \n",
       "12                  10      Zeke    None  \n",
       "13                  10   Ralphus    None  \n",
       "14                  10    Gerald    None  \n",
       "15                  10   Jeffrey    None  \n",
       "16                  10    Canela    None  \n",
       "17                  10      None    None  \n",
       "18                  10    Mingus    None  \n",
       "19                  10    Roscoe  pupper  "
      ]
     },
     "execution_count": 37,
     "metadata": {},
     "output_type": "execute_result"
    }
   ],
   "source": [
    "# check un needed columns are dropped \n",
    "\n",
    "twitter_df_clean.head(20)"
   ]
  },
  {
   "cell_type": "markdown",
   "metadata": {},
   "source": [
    "### Define\n",
    "### Tidiness\n",
    "##### `twitter_df_clean` table\n",
    "- split `time stamp` column to two separate columns `date` and `time`"
   ]
  },
  {
   "cell_type": "markdown",
   "metadata": {},
   "source": [
    "### Code"
   ]
  },
  {
   "cell_type": "code",
   "execution_count": 38,
   "metadata": {},
   "outputs": [],
   "source": [
    "# First, convert the `timestamp` column type to datetime\n",
    "\n",
    "twitter_df_clean['timestamp'] = pd.to_datetime(twitter_df_clean['timestamp'])"
   ]
  },
  {
   "cell_type": "code",
   "execution_count": 39,
   "metadata": {},
   "outputs": [],
   "source": [
    "# second, split `time stamp` column to two separate columns `date` and `time`\n",
    "\n",
    "twitter_df_clean['date'] = [d.date() for d in twitter_df_clean['timestamp']]\n",
    "twitter_df_clean['time'] = [d.time() for d in twitter_df_clean['timestamp']]"
   ]
  },
  {
   "cell_type": "code",
   "execution_count": 40,
   "metadata": {},
   "outputs": [],
   "source": [
    "# finally, drop the `timestamp` column as it is no longer needed\n",
    "\n",
    "twitter_df_clean.drop(columns = ['timestamp'], inplace = True)"
   ]
  },
  {
   "cell_type": "markdown",
   "metadata": {},
   "source": [
    "### Test"
   ]
  },
  {
   "cell_type": "code",
   "execution_count": 41,
   "metadata": {},
   "outputs": [
    {
     "name": "stdout",
     "output_type": "stream",
     "text": [
      "<class 'pandas.core.frame.DataFrame'>\n",
      "RangeIndex: 1497 entries, 0 to 1496\n",
      "Data columns (total 8 columns):\n",
      "tweet_id              1497 non-null int64\n",
      "text                  1497 non-null object\n",
      "rating_numerator      1497 non-null int64\n",
      "rating_denominator    1497 non-null int64\n",
      "name                  1497 non-null object\n",
      "stage                 1497 non-null object\n",
      "date                  1497 non-null object\n",
      "time                  1497 non-null object\n",
      "dtypes: int64(3), object(5)\n",
      "memory usage: 93.6+ KB\n"
     ]
    }
   ],
   "source": [
    "# check type of `timestamp` column is datetime\n",
    "\n",
    "twitter_df_clean.info()"
   ]
  },
  {
   "cell_type": "code",
   "execution_count": 42,
   "metadata": {},
   "outputs": [
    {
     "data": {
      "text/html": [
       "<div>\n",
       "<style scoped>\n",
       "    .dataframe tbody tr th:only-of-type {\n",
       "        vertical-align: middle;\n",
       "    }\n",
       "\n",
       "    .dataframe tbody tr th {\n",
       "        vertical-align: top;\n",
       "    }\n",
       "\n",
       "    .dataframe thead th {\n",
       "        text-align: right;\n",
       "    }\n",
       "</style>\n",
       "<table border=\"1\" class=\"dataframe\">\n",
       "  <thead>\n",
       "    <tr style=\"text-align: right;\">\n",
       "      <th></th>\n",
       "      <th>tweet_id</th>\n",
       "      <th>text</th>\n",
       "      <th>rating_numerator</th>\n",
       "      <th>rating_denominator</th>\n",
       "      <th>name</th>\n",
       "      <th>stage</th>\n",
       "      <th>date</th>\n",
       "      <th>time</th>\n",
       "    </tr>\n",
       "  </thead>\n",
       "  <tbody>\n",
       "    <tr>\n",
       "      <th>0</th>\n",
       "      <td>892177421306343426</td>\n",
       "      <td>This is Tilly. She's just checking pup on you....</td>\n",
       "      <td>13</td>\n",
       "      <td>10</td>\n",
       "      <td>Tilly</td>\n",
       "      <td>None</td>\n",
       "      <td>2017-08-01</td>\n",
       "      <td>00:17:27</td>\n",
       "    </tr>\n",
       "    <tr>\n",
       "      <th>1</th>\n",
       "      <td>891815181378084864</td>\n",
       "      <td>This is Archie. He is a rare Norwegian Pouncin...</td>\n",
       "      <td>12</td>\n",
       "      <td>10</td>\n",
       "      <td>Archie</td>\n",
       "      <td>None</td>\n",
       "      <td>2017-07-31</td>\n",
       "      <td>00:18:03</td>\n",
       "    </tr>\n",
       "    <tr>\n",
       "      <th>2</th>\n",
       "      <td>891327558926688256</td>\n",
       "      <td>This is Franklin. He would like you to stop ca...</td>\n",
       "      <td>12</td>\n",
       "      <td>10</td>\n",
       "      <td>Franklin</td>\n",
       "      <td>None</td>\n",
       "      <td>2017-07-29</td>\n",
       "      <td>16:00:24</td>\n",
       "    </tr>\n",
       "    <tr>\n",
       "      <th>3</th>\n",
       "      <td>890729181411237888</td>\n",
       "      <td>When you watch your owner call another dog a g...</td>\n",
       "      <td>13</td>\n",
       "      <td>10</td>\n",
       "      <td>None</td>\n",
       "      <td>None</td>\n",
       "      <td>2017-07-28</td>\n",
       "      <td>00:22:40</td>\n",
       "    </tr>\n",
       "    <tr>\n",
       "      <th>4</th>\n",
       "      <td>890609185150312448</td>\n",
       "      <td>This is Zoey. She doesn't want to be one of th...</td>\n",
       "      <td>13</td>\n",
       "      <td>10</td>\n",
       "      <td>Zoey</td>\n",
       "      <td>None</td>\n",
       "      <td>2017-07-27</td>\n",
       "      <td>16:25:51</td>\n",
       "    </tr>\n",
       "  </tbody>\n",
       "</table>\n",
       "</div>"
      ],
      "text/plain": [
       "             tweet_id                                               text  \\\n",
       "0  892177421306343426  This is Tilly. She's just checking pup on you....   \n",
       "1  891815181378084864  This is Archie. He is a rare Norwegian Pouncin...   \n",
       "2  891327558926688256  This is Franklin. He would like you to stop ca...   \n",
       "3  890729181411237888  When you watch your owner call another dog a g...   \n",
       "4  890609185150312448  This is Zoey. She doesn't want to be one of th...   \n",
       "\n",
       "   rating_numerator  rating_denominator      name stage        date      time  \n",
       "0                13                  10     Tilly  None  2017-08-01  00:17:27  \n",
       "1                12                  10    Archie  None  2017-07-31  00:18:03  \n",
       "2                12                  10  Franklin  None  2017-07-29  16:00:24  \n",
       "3                13                  10      None  None  2017-07-28  00:22:40  \n",
       "4                13                  10      Zoey  None  2017-07-27  16:25:51  "
      ]
     },
     "execution_count": 42,
     "metadata": {},
     "output_type": "execute_result"
    }
   ],
   "source": [
    "# check the columns are created correctly\n",
    "\n",
    "twitter_df_clean.head()"
   ]
  },
  {
   "cell_type": "code",
   "execution_count": 43,
   "metadata": {},
   "outputs": [
    {
     "data": {
      "text/html": [
       "<div>\n",
       "<style scoped>\n",
       "    .dataframe tbody tr th:only-of-type {\n",
       "        vertical-align: middle;\n",
       "    }\n",
       "\n",
       "    .dataframe tbody tr th {\n",
       "        vertical-align: top;\n",
       "    }\n",
       "\n",
       "    .dataframe thead th {\n",
       "        text-align: right;\n",
       "    }\n",
       "</style>\n",
       "<table border=\"1\" class=\"dataframe\">\n",
       "  <thead>\n",
       "    <tr style=\"text-align: right;\">\n",
       "      <th></th>\n",
       "      <th>tweet_id</th>\n",
       "      <th>text</th>\n",
       "      <th>rating_numerator</th>\n",
       "      <th>rating_denominator</th>\n",
       "      <th>name</th>\n",
       "      <th>stage</th>\n",
       "      <th>date</th>\n",
       "      <th>time</th>\n",
       "    </tr>\n",
       "  </thead>\n",
       "  <tbody>\n",
       "    <tr>\n",
       "      <th>1492</th>\n",
       "      <td>666049248165822465</td>\n",
       "      <td>Here we have a 1949 1st generation vulpix. Enj...</td>\n",
       "      <td>5</td>\n",
       "      <td>10</td>\n",
       "      <td>None</td>\n",
       "      <td>None</td>\n",
       "      <td>2015-11-16</td>\n",
       "      <td>00:24:50</td>\n",
       "    </tr>\n",
       "    <tr>\n",
       "      <th>1493</th>\n",
       "      <td>666044226329800704</td>\n",
       "      <td>This is a purebred Piers Morgan. Loves to Netf...</td>\n",
       "      <td>6</td>\n",
       "      <td>10</td>\n",
       "      <td>a</td>\n",
       "      <td>None</td>\n",
       "      <td>2015-11-16</td>\n",
       "      <td>00:04:52</td>\n",
       "    </tr>\n",
       "    <tr>\n",
       "      <th>1494</th>\n",
       "      <td>666033412701032449</td>\n",
       "      <td>Here is a very happy pup. Big fan of well-main...</td>\n",
       "      <td>9</td>\n",
       "      <td>10</td>\n",
       "      <td>a</td>\n",
       "      <td>None</td>\n",
       "      <td>2015-11-15</td>\n",
       "      <td>23:21:54</td>\n",
       "    </tr>\n",
       "    <tr>\n",
       "      <th>1495</th>\n",
       "      <td>666029285002620928</td>\n",
       "      <td>This is a western brown Mitsubishi terrier. Up...</td>\n",
       "      <td>7</td>\n",
       "      <td>10</td>\n",
       "      <td>a</td>\n",
       "      <td>None</td>\n",
       "      <td>2015-11-15</td>\n",
       "      <td>23:05:30</td>\n",
       "    </tr>\n",
       "    <tr>\n",
       "      <th>1496</th>\n",
       "      <td>666020888022790149</td>\n",
       "      <td>Here we have a Japanese Irish Setter. Lost eye...</td>\n",
       "      <td>8</td>\n",
       "      <td>10</td>\n",
       "      <td>None</td>\n",
       "      <td>None</td>\n",
       "      <td>2015-11-15</td>\n",
       "      <td>22:32:08</td>\n",
       "    </tr>\n",
       "  </tbody>\n",
       "</table>\n",
       "</div>"
      ],
      "text/plain": [
       "                tweet_id                                               text  \\\n",
       "1492  666049248165822465  Here we have a 1949 1st generation vulpix. Enj...   \n",
       "1493  666044226329800704  This is a purebred Piers Morgan. Loves to Netf...   \n",
       "1494  666033412701032449  Here is a very happy pup. Big fan of well-main...   \n",
       "1495  666029285002620928  This is a western brown Mitsubishi terrier. Up...   \n",
       "1496  666020888022790149  Here we have a Japanese Irish Setter. Lost eye...   \n",
       "\n",
       "      rating_numerator  rating_denominator  name stage        date      time  \n",
       "1492                 5                  10  None  None  2015-11-16  00:24:50  \n",
       "1493                 6                  10     a  None  2015-11-16  00:04:52  \n",
       "1494                 9                  10     a  None  2015-11-15  23:21:54  \n",
       "1495                 7                  10     a  None  2015-11-15  23:05:30  \n",
       "1496                 8                  10  None  None  2015-11-15  22:32:08  "
      ]
     },
     "execution_count": 43,
     "metadata": {},
     "output_type": "execute_result"
    }
   ],
   "source": [
    "# check `timestamp` column is dropped \n",
    "\n",
    "twitter_df_clean.tail()"
   ]
  },
  {
   "cell_type": "markdown",
   "metadata": {},
   "source": [
    "### Define\n",
    "### Tidiness\n",
    "##### `tweet_json_clean` table\n",
    "- merge `tweet_json_clean` table with `twitter_df_clean` table "
   ]
  },
  {
   "cell_type": "markdown",
   "metadata": {},
   "source": [
    "### Code"
   ]
  },
  {
   "cell_type": "code",
   "execution_count": 44,
   "metadata": {},
   "outputs": [],
   "source": [
    "# merge `tweet_json_clean` table with `twitter_df_clean` table \n",
    "\n",
    "twitter_df_clean = pd.merge(twitter_df_clean, tweet_json_clean, on = 'tweet_id')"
   ]
  },
  {
   "cell_type": "markdown",
   "metadata": {},
   "source": [
    "### Test"
   ]
  },
  {
   "cell_type": "code",
   "execution_count": 45,
   "metadata": {},
   "outputs": [
    {
     "data": {
      "text/html": [
       "<div>\n",
       "<style scoped>\n",
       "    .dataframe tbody tr th:only-of-type {\n",
       "        vertical-align: middle;\n",
       "    }\n",
       "\n",
       "    .dataframe tbody tr th {\n",
       "        vertical-align: top;\n",
       "    }\n",
       "\n",
       "    .dataframe thead th {\n",
       "        text-align: right;\n",
       "    }\n",
       "</style>\n",
       "<table border=\"1\" class=\"dataframe\">\n",
       "  <thead>\n",
       "    <tr style=\"text-align: right;\">\n",
       "      <th></th>\n",
       "      <th>tweet_id</th>\n",
       "      <th>text</th>\n",
       "      <th>rating_numerator</th>\n",
       "      <th>rating_denominator</th>\n",
       "      <th>name</th>\n",
       "      <th>stage</th>\n",
       "      <th>date</th>\n",
       "      <th>time</th>\n",
       "      <th>favorite_count</th>\n",
       "      <th>retweet_count</th>\n",
       "    </tr>\n",
       "  </thead>\n",
       "  <tbody>\n",
       "    <tr>\n",
       "      <th>0</th>\n",
       "      <td>892177421306343426</td>\n",
       "      <td>This is Tilly. She's just checking pup on you....</td>\n",
       "      <td>13</td>\n",
       "      <td>10</td>\n",
       "      <td>Tilly</td>\n",
       "      <td>None</td>\n",
       "      <td>2017-08-01</td>\n",
       "      <td>00:17:27</td>\n",
       "      <td>33128</td>\n",
       "      <td>6286</td>\n",
       "    </tr>\n",
       "    <tr>\n",
       "      <th>1</th>\n",
       "      <td>891815181378084864</td>\n",
       "      <td>This is Archie. He is a rare Norwegian Pouncin...</td>\n",
       "      <td>12</td>\n",
       "      <td>10</td>\n",
       "      <td>Archie</td>\n",
       "      <td>None</td>\n",
       "      <td>2017-07-31</td>\n",
       "      <td>00:18:03</td>\n",
       "      <td>24940</td>\n",
       "      <td>4166</td>\n",
       "    </tr>\n",
       "    <tr>\n",
       "      <th>2</th>\n",
       "      <td>891327558926688256</td>\n",
       "      <td>This is Franklin. He would like you to stop ca...</td>\n",
       "      <td>12</td>\n",
       "      <td>10</td>\n",
       "      <td>Franklin</td>\n",
       "      <td>None</td>\n",
       "      <td>2017-07-29</td>\n",
       "      <td>16:00:24</td>\n",
       "      <td>40194</td>\n",
       "      <td>9439</td>\n",
       "    </tr>\n",
       "    <tr>\n",
       "      <th>3</th>\n",
       "      <td>890729181411237888</td>\n",
       "      <td>When you watch your owner call another dog a g...</td>\n",
       "      <td>13</td>\n",
       "      <td>10</td>\n",
       "      <td>None</td>\n",
       "      <td>None</td>\n",
       "      <td>2017-07-28</td>\n",
       "      <td>00:22:40</td>\n",
       "      <td>65297</td>\n",
       "      <td>18957</td>\n",
       "    </tr>\n",
       "    <tr>\n",
       "      <th>4</th>\n",
       "      <td>890609185150312448</td>\n",
       "      <td>This is Zoey. She doesn't want to be one of th...</td>\n",
       "      <td>13</td>\n",
       "      <td>10</td>\n",
       "      <td>Zoey</td>\n",
       "      <td>None</td>\n",
       "      <td>2017-07-27</td>\n",
       "      <td>16:25:51</td>\n",
       "      <td>27701</td>\n",
       "      <td>4278</td>\n",
       "    </tr>\n",
       "  </tbody>\n",
       "</table>\n",
       "</div>"
      ],
      "text/plain": [
       "             tweet_id                                               text  \\\n",
       "0  892177421306343426  This is Tilly. She's just checking pup on you....   \n",
       "1  891815181378084864  This is Archie. He is a rare Norwegian Pouncin...   \n",
       "2  891327558926688256  This is Franklin. He would like you to stop ca...   \n",
       "3  890729181411237888  When you watch your owner call another dog a g...   \n",
       "4  890609185150312448  This is Zoey. She doesn't want to be one of th...   \n",
       "\n",
       "   rating_numerator  rating_denominator      name stage        date      time  \\\n",
       "0                13                  10     Tilly  None  2017-08-01  00:17:27   \n",
       "1                12                  10    Archie  None  2017-07-31  00:18:03   \n",
       "2                12                  10  Franklin  None  2017-07-29  16:00:24   \n",
       "3                13                  10      None  None  2017-07-28  00:22:40   \n",
       "4                13                  10      Zoey  None  2017-07-27  16:25:51   \n",
       "\n",
       "   favorite_count  retweet_count  \n",
       "0           33128           6286  \n",
       "1           24940           4166  \n",
       "2           40194           9439  \n",
       "3           65297          18957  \n",
       "4           27701           4278  "
      ]
     },
     "execution_count": 45,
     "metadata": {},
     "output_type": "execute_result"
    }
   ],
   "source": [
    "# check the merge is done correctly\n",
    "\n",
    "twitter_df_clean.head()"
   ]
  },
  {
   "cell_type": "code",
   "execution_count": 46,
   "metadata": {},
   "outputs": [
    {
     "data": {
      "text/html": [
       "<div>\n",
       "<style scoped>\n",
       "    .dataframe tbody tr th:only-of-type {\n",
       "        vertical-align: middle;\n",
       "    }\n",
       "\n",
       "    .dataframe tbody tr th {\n",
       "        vertical-align: top;\n",
       "    }\n",
       "\n",
       "    .dataframe thead th {\n",
       "        text-align: right;\n",
       "    }\n",
       "</style>\n",
       "<table border=\"1\" class=\"dataframe\">\n",
       "  <thead>\n",
       "    <tr style=\"text-align: right;\">\n",
       "      <th></th>\n",
       "      <th>tweet_id</th>\n",
       "      <th>p1</th>\n",
       "      <th>p1_conf</th>\n",
       "      <th>p1_dog</th>\n",
       "      <th>p2</th>\n",
       "      <th>p2_conf</th>\n",
       "      <th>p2_dog</th>\n",
       "      <th>p3</th>\n",
       "      <th>p3_conf</th>\n",
       "      <th>p3_dog</th>\n",
       "    </tr>\n",
       "  </thead>\n",
       "  <tbody>\n",
       "    <tr>\n",
       "      <th>0</th>\n",
       "      <td>666020888022790149</td>\n",
       "      <td>Welsh_springer_spaniel</td>\n",
       "      <td>0.465074</td>\n",
       "      <td>True</td>\n",
       "      <td>collie</td>\n",
       "      <td>0.156665</td>\n",
       "      <td>True</td>\n",
       "      <td>Shetland_sheepdog</td>\n",
       "      <td>0.061428</td>\n",
       "      <td>True</td>\n",
       "    </tr>\n",
       "    <tr>\n",
       "      <th>1</th>\n",
       "      <td>666029285002620928</td>\n",
       "      <td>redbone</td>\n",
       "      <td>0.506826</td>\n",
       "      <td>True</td>\n",
       "      <td>miniature_pinscher</td>\n",
       "      <td>0.074192</td>\n",
       "      <td>True</td>\n",
       "      <td>Rhodesian_ridgeback</td>\n",
       "      <td>0.072010</td>\n",
       "      <td>True</td>\n",
       "    </tr>\n",
       "    <tr>\n",
       "      <th>2</th>\n",
       "      <td>666033412701032449</td>\n",
       "      <td>German_shepherd</td>\n",
       "      <td>0.596461</td>\n",
       "      <td>True</td>\n",
       "      <td>malinois</td>\n",
       "      <td>0.138584</td>\n",
       "      <td>True</td>\n",
       "      <td>bloodhound</td>\n",
       "      <td>0.116197</td>\n",
       "      <td>True</td>\n",
       "    </tr>\n",
       "    <tr>\n",
       "      <th>3</th>\n",
       "      <td>666044226329800704</td>\n",
       "      <td>Rhodesian_ridgeback</td>\n",
       "      <td>0.408143</td>\n",
       "      <td>True</td>\n",
       "      <td>redbone</td>\n",
       "      <td>0.360687</td>\n",
       "      <td>True</td>\n",
       "      <td>miniature_pinscher</td>\n",
       "      <td>0.222752</td>\n",
       "      <td>True</td>\n",
       "    </tr>\n",
       "    <tr>\n",
       "      <th>4</th>\n",
       "      <td>666049248165822465</td>\n",
       "      <td>miniature_pinscher</td>\n",
       "      <td>0.560311</td>\n",
       "      <td>True</td>\n",
       "      <td>Rottweiler</td>\n",
       "      <td>0.243682</td>\n",
       "      <td>True</td>\n",
       "      <td>Doberman</td>\n",
       "      <td>0.154629</td>\n",
       "      <td>True</td>\n",
       "    </tr>\n",
       "  </tbody>\n",
       "</table>\n",
       "</div>"
      ],
      "text/plain": [
       "             tweet_id                      p1   p1_conf  p1_dog  \\\n",
       "0  666020888022790149  Welsh_springer_spaniel  0.465074    True   \n",
       "1  666029285002620928                 redbone  0.506826    True   \n",
       "2  666033412701032449         German_shepherd  0.596461    True   \n",
       "3  666044226329800704     Rhodesian_ridgeback  0.408143    True   \n",
       "4  666049248165822465      miniature_pinscher  0.560311    True   \n",
       "\n",
       "                   p2   p2_conf  p2_dog                   p3   p3_conf  p3_dog  \n",
       "0              collie  0.156665    True    Shetland_sheepdog  0.061428    True  \n",
       "1  miniature_pinscher  0.074192    True  Rhodesian_ridgeback  0.072010    True  \n",
       "2            malinois  0.138584    True           bloodhound  0.116197    True  \n",
       "3             redbone  0.360687    True   miniature_pinscher  0.222752    True  \n",
       "4          Rottweiler  0.243682    True             Doberman  0.154629    True  "
      ]
     },
     "execution_count": 46,
     "metadata": {},
     "output_type": "execute_result"
    }
   ],
   "source": [
    "predict_dog_clean.head()"
   ]
  },
  {
   "cell_type": "code",
   "execution_count": 47,
   "metadata": {},
   "outputs": [],
   "source": [
    "# writing cleaned data to a master csv file\n",
    "\n",
    "twitter_df_clean.to_csv('twitter_archive_master.csv', encoding= 'utf-8', index=False)\n",
    "\n",
    "predict_dog_clean.to_csv('dog_image_predictions.csv', encoding = 'utf-8', index = False)"
   ]
  },
  {
   "cell_type": "markdown",
   "metadata": {},
   "source": [
    "# Ask Questions"
   ]
  },
  {
   "cell_type": "markdown",
   "metadata": {},
   "source": [
    "1- what dog breed is most present in the dataset ?\n",
    "\n",
    "2- what is the range of rating scores through the dataset (out of 10) ?\n",
    "\n",
    "3- which year has the most tweets for the hashtag ?\n",
    "\n",
    "4- is the rating score related to number of tweet's favorites ?\n",
    "\n",
    "5- which dog breed has the most tweet favorites and retweets ?"
   ]
  },
  {
   "cell_type": "markdown",
   "metadata": {},
   "source": [
    "# Exploratory Data Analysis"
   ]
  },
  {
   "cell_type": "code",
   "execution_count": 52,
   "metadata": {},
   "outputs": [],
   "source": [
    "# load data\n",
    "\n",
    "twitter_master = pd.read_csv('twitter_archive_master.csv')\n",
    "predict_dog = pd.read_csv('dog_image_predictions.csv')"
   ]
  },
  {
   "cell_type": "code",
   "execution_count": 142,
   "metadata": {},
   "outputs": [
    {
     "data": {
      "text/html": [
       "<div>\n",
       "<style scoped>\n",
       "    .dataframe tbody tr th:only-of-type {\n",
       "        vertical-align: middle;\n",
       "    }\n",
       "\n",
       "    .dataframe tbody tr th {\n",
       "        vertical-align: top;\n",
       "    }\n",
       "\n",
       "    .dataframe thead th {\n",
       "        text-align: right;\n",
       "    }\n",
       "</style>\n",
       "<table border=\"1\" class=\"dataframe\">\n",
       "  <thead>\n",
       "    <tr style=\"text-align: right;\">\n",
       "      <th></th>\n",
       "      <th>tweet_id</th>\n",
       "      <th>text</th>\n",
       "      <th>rating_numerator</th>\n",
       "      <th>rating_denominator</th>\n",
       "      <th>name</th>\n",
       "      <th>stage</th>\n",
       "      <th>date</th>\n",
       "      <th>time</th>\n",
       "      <th>favorite_count</th>\n",
       "      <th>retweet_count</th>\n",
       "    </tr>\n",
       "  </thead>\n",
       "  <tbody>\n",
       "    <tr>\n",
       "      <th>0</th>\n",
       "      <td>892177421306343426</td>\n",
       "      <td>This is Tilly. She's just checking pup on you....</td>\n",
       "      <td>13</td>\n",
       "      <td>10</td>\n",
       "      <td>Tilly</td>\n",
       "      <td>None</td>\n",
       "      <td>2017-08-01</td>\n",
       "      <td>00:17:27</td>\n",
       "      <td>33128</td>\n",
       "      <td>6286</td>\n",
       "    </tr>\n",
       "    <tr>\n",
       "      <th>1</th>\n",
       "      <td>891815181378084864</td>\n",
       "      <td>This is Archie. He is a rare Norwegian Pouncin...</td>\n",
       "      <td>12</td>\n",
       "      <td>10</td>\n",
       "      <td>Archie</td>\n",
       "      <td>None</td>\n",
       "      <td>2017-07-31</td>\n",
       "      <td>00:18:03</td>\n",
       "      <td>24940</td>\n",
       "      <td>4166</td>\n",
       "    </tr>\n",
       "    <tr>\n",
       "      <th>2</th>\n",
       "      <td>891327558926688256</td>\n",
       "      <td>This is Franklin. He would like you to stop ca...</td>\n",
       "      <td>12</td>\n",
       "      <td>10</td>\n",
       "      <td>Franklin</td>\n",
       "      <td>None</td>\n",
       "      <td>2017-07-29</td>\n",
       "      <td>16:00:24</td>\n",
       "      <td>40194</td>\n",
       "      <td>9439</td>\n",
       "    </tr>\n",
       "    <tr>\n",
       "      <th>3</th>\n",
       "      <td>890729181411237888</td>\n",
       "      <td>When you watch your owner call another dog a g...</td>\n",
       "      <td>13</td>\n",
       "      <td>10</td>\n",
       "      <td>None</td>\n",
       "      <td>None</td>\n",
       "      <td>2017-07-28</td>\n",
       "      <td>00:22:40</td>\n",
       "      <td>65297</td>\n",
       "      <td>18957</td>\n",
       "    </tr>\n",
       "    <tr>\n",
       "      <th>4</th>\n",
       "      <td>890609185150312448</td>\n",
       "      <td>This is Zoey. She doesn't want to be one of th...</td>\n",
       "      <td>13</td>\n",
       "      <td>10</td>\n",
       "      <td>Zoey</td>\n",
       "      <td>None</td>\n",
       "      <td>2017-07-27</td>\n",
       "      <td>16:25:51</td>\n",
       "      <td>27701</td>\n",
       "      <td>4278</td>\n",
       "    </tr>\n",
       "  </tbody>\n",
       "</table>\n",
       "</div>"
      ],
      "text/plain": [
       "             tweet_id                                               text  \\\n",
       "0  892177421306343426  This is Tilly. She's just checking pup on you....   \n",
       "1  891815181378084864  This is Archie. He is a rare Norwegian Pouncin...   \n",
       "2  891327558926688256  This is Franklin. He would like you to stop ca...   \n",
       "3  890729181411237888  When you watch your owner call another dog a g...   \n",
       "4  890609185150312448  This is Zoey. She doesn't want to be one of th...   \n",
       "\n",
       "   rating_numerator  rating_denominator      name stage        date      time  \\\n",
       "0                13                  10     Tilly  None  2017-08-01  00:17:27   \n",
       "1                12                  10    Archie  None  2017-07-31  00:18:03   \n",
       "2                12                  10  Franklin  None  2017-07-29  16:00:24   \n",
       "3                13                  10      None  None  2017-07-28  00:22:40   \n",
       "4                13                  10      Zoey  None  2017-07-27  16:25:51   \n",
       "\n",
       "   favorite_count  retweet_count  \n",
       "0           33128           6286  \n",
       "1           24940           4166  \n",
       "2           40194           9439  \n",
       "3           65297          18957  \n",
       "4           27701           4278  "
      ]
     },
     "execution_count": 142,
     "metadata": {},
     "output_type": "execute_result"
    }
   ],
   "source": [
    "# explore twitter_master dataset\n",
    "\n",
    "twitter_master.head()"
   ]
  },
  {
   "cell_type": "code",
   "execution_count": 143,
   "metadata": {},
   "outputs": [
    {
     "data": {
      "text/html": [
       "<div>\n",
       "<style scoped>\n",
       "    .dataframe tbody tr th:only-of-type {\n",
       "        vertical-align: middle;\n",
       "    }\n",
       "\n",
       "    .dataframe tbody tr th {\n",
       "        vertical-align: top;\n",
       "    }\n",
       "\n",
       "    .dataframe thead th {\n",
       "        text-align: right;\n",
       "    }\n",
       "</style>\n",
       "<table border=\"1\" class=\"dataframe\">\n",
       "  <thead>\n",
       "    <tr style=\"text-align: right;\">\n",
       "      <th></th>\n",
       "      <th>tweet_id</th>\n",
       "      <th>p1</th>\n",
       "      <th>p1_conf</th>\n",
       "      <th>p1_dog</th>\n",
       "      <th>p2</th>\n",
       "      <th>p2_conf</th>\n",
       "      <th>p2_dog</th>\n",
       "      <th>p3</th>\n",
       "      <th>p3_conf</th>\n",
       "      <th>p3_dog</th>\n",
       "    </tr>\n",
       "  </thead>\n",
       "  <tbody>\n",
       "    <tr>\n",
       "      <th>0</th>\n",
       "      <td>666020888022790149</td>\n",
       "      <td>Welsh_springer_spaniel</td>\n",
       "      <td>0.465074</td>\n",
       "      <td>True</td>\n",
       "      <td>collie</td>\n",
       "      <td>0.156665</td>\n",
       "      <td>True</td>\n",
       "      <td>Shetland_sheepdog</td>\n",
       "      <td>0.061428</td>\n",
       "      <td>True</td>\n",
       "    </tr>\n",
       "    <tr>\n",
       "      <th>1</th>\n",
       "      <td>666029285002620928</td>\n",
       "      <td>redbone</td>\n",
       "      <td>0.506826</td>\n",
       "      <td>True</td>\n",
       "      <td>miniature_pinscher</td>\n",
       "      <td>0.074192</td>\n",
       "      <td>True</td>\n",
       "      <td>Rhodesian_ridgeback</td>\n",
       "      <td>0.072010</td>\n",
       "      <td>True</td>\n",
       "    </tr>\n",
       "    <tr>\n",
       "      <th>2</th>\n",
       "      <td>666033412701032449</td>\n",
       "      <td>German_shepherd</td>\n",
       "      <td>0.596461</td>\n",
       "      <td>True</td>\n",
       "      <td>malinois</td>\n",
       "      <td>0.138584</td>\n",
       "      <td>True</td>\n",
       "      <td>bloodhound</td>\n",
       "      <td>0.116197</td>\n",
       "      <td>True</td>\n",
       "    </tr>\n",
       "    <tr>\n",
       "      <th>3</th>\n",
       "      <td>666044226329800704</td>\n",
       "      <td>Rhodesian_ridgeback</td>\n",
       "      <td>0.408143</td>\n",
       "      <td>True</td>\n",
       "      <td>redbone</td>\n",
       "      <td>0.360687</td>\n",
       "      <td>True</td>\n",
       "      <td>miniature_pinscher</td>\n",
       "      <td>0.222752</td>\n",
       "      <td>True</td>\n",
       "    </tr>\n",
       "    <tr>\n",
       "      <th>4</th>\n",
       "      <td>666049248165822465</td>\n",
       "      <td>miniature_pinscher</td>\n",
       "      <td>0.560311</td>\n",
       "      <td>True</td>\n",
       "      <td>Rottweiler</td>\n",
       "      <td>0.243682</td>\n",
       "      <td>True</td>\n",
       "      <td>Doberman</td>\n",
       "      <td>0.154629</td>\n",
       "      <td>True</td>\n",
       "    </tr>\n",
       "  </tbody>\n",
       "</table>\n",
       "</div>"
      ],
      "text/plain": [
       "             tweet_id                      p1   p1_conf  p1_dog  \\\n",
       "0  666020888022790149  Welsh_springer_spaniel  0.465074    True   \n",
       "1  666029285002620928                 redbone  0.506826    True   \n",
       "2  666033412701032449         German_shepherd  0.596461    True   \n",
       "3  666044226329800704     Rhodesian_ridgeback  0.408143    True   \n",
       "4  666049248165822465      miniature_pinscher  0.560311    True   \n",
       "\n",
       "                   p2   p2_conf  p2_dog                   p3   p3_conf  p3_dog  \n",
       "0              collie  0.156665    True    Shetland_sheepdog  0.061428    True  \n",
       "1  miniature_pinscher  0.074192    True  Rhodesian_ridgeback  0.072010    True  \n",
       "2            malinois  0.138584    True           bloodhound  0.116197    True  \n",
       "3             redbone  0.360687    True   miniature_pinscher  0.222752    True  \n",
       "4          Rottweiler  0.243682    True             Doberman  0.154629    True  "
      ]
     },
     "execution_count": 143,
     "metadata": {},
     "output_type": "execute_result"
    }
   ],
   "source": [
    "# explore predict_dog dataset\n",
    "\n",
    "predict_dog.head()"
   ]
  },
  {
   "cell_type": "markdown",
   "metadata": {},
   "source": [
    "### Question 1: what dog breed is most present in the dataset ?"
   ]
  },
  {
   "cell_type": "code",
   "execution_count": 130,
   "metadata": {},
   "outputs": [
    {
     "data": {
      "text/plain": [
       "golden_retriever      126\n",
       "Pembroke               78\n",
       "Labrador_retriever     77\n",
       "Chihuahua              54\n",
       "pug                    41\n",
       "Name: p1, dtype: int64"
      ]
     },
     "execution_count": 130,
     "metadata": {},
     "output_type": "execute_result"
    }
   ],
   "source": [
    "# find the most present dog breed\n",
    "\n",
    "predict_dog['p1'].value_counts().head()"
   ]
  },
  {
   "cell_type": "markdown",
   "metadata": {},
   "source": [
    "##### So, we can see that `golden retriever` dog is the most probable present breed in the dataset with 126 times appeared "
   ]
  },
  {
   "cell_type": "markdown",
   "metadata": {},
   "source": [
    "### Question 2: what is the range of rating scores through the dataset (out of 10) ?"
   ]
  },
  {
   "cell_type": "code",
   "execution_count": 110,
   "metadata": {},
   "outputs": [
    {
     "data": {
      "text/html": [
       "<div>\n",
       "<style scoped>\n",
       "    .dataframe tbody tr th:only-of-type {\n",
       "        vertical-align: middle;\n",
       "    }\n",
       "\n",
       "    .dataframe tbody tr th {\n",
       "        vertical-align: top;\n",
       "    }\n",
       "\n",
       "    .dataframe thead th {\n",
       "        text-align: right;\n",
       "    }\n",
       "</style>\n",
       "<table border=\"1\" class=\"dataframe\">\n",
       "  <thead>\n",
       "    <tr style=\"text-align: right;\">\n",
       "      <th></th>\n",
       "      <th>tweet_id</th>\n",
       "      <th>rating_numerator</th>\n",
       "      <th>rating_denominator</th>\n",
       "      <th>favorite_count</th>\n",
       "      <th>retweet_count</th>\n",
       "    </tr>\n",
       "  </thead>\n",
       "  <tbody>\n",
       "    <tr>\n",
       "      <th>count</th>\n",
       "      <td>1.497000e+03</td>\n",
       "      <td>1497.000000</td>\n",
       "      <td>1497.0</td>\n",
       "      <td>1497.000000</td>\n",
       "      <td>1497.000000</td>\n",
       "    </tr>\n",
       "    <tr>\n",
       "      <th>mean</th>\n",
       "      <td>7.492926e+17</td>\n",
       "      <td>11.954576</td>\n",
       "      <td>10.0</td>\n",
       "      <td>8156.591182</td>\n",
       "      <td>3054.793587</td>\n",
       "    </tr>\n",
       "    <tr>\n",
       "      <th>std</th>\n",
       "      <td>6.947636e+16</td>\n",
       "      <td>20.576694</td>\n",
       "      <td>0.0</td>\n",
       "      <td>12289.106797</td>\n",
       "      <td>4967.939047</td>\n",
       "    </tr>\n",
       "    <tr>\n",
       "      <th>min</th>\n",
       "      <td>6.660209e+17</td>\n",
       "      <td>1.000000</td>\n",
       "      <td>10.0</td>\n",
       "      <td>0.000000</td>\n",
       "      <td>0.000000</td>\n",
       "    </tr>\n",
       "    <tr>\n",
       "      <th>25%</th>\n",
       "      <td>6.824295e+17</td>\n",
       "      <td>10.000000</td>\n",
       "      <td>10.0</td>\n",
       "      <td>1374.000000</td>\n",
       "      <td>622.000000</td>\n",
       "    </tr>\n",
       "    <tr>\n",
       "      <th>50%</th>\n",
       "      <td>7.388834e+17</td>\n",
       "      <td>11.000000</td>\n",
       "      <td>10.0</td>\n",
       "      <td>3684.000000</td>\n",
       "      <td>1493.000000</td>\n",
       "    </tr>\n",
       "    <tr>\n",
       "      <th>75%</th>\n",
       "      <td>8.094487e+17</td>\n",
       "      <td>12.000000</td>\n",
       "      <td>10.0</td>\n",
       "      <td>10214.000000</td>\n",
       "      <td>3585.000000</td>\n",
       "    </tr>\n",
       "    <tr>\n",
       "      <th>max</th>\n",
       "      <td>8.921774e+17</td>\n",
       "      <td>666.000000</td>\n",
       "      <td>10.0</td>\n",
       "      <td>142861.000000</td>\n",
       "      <td>60820.000000</td>\n",
       "    </tr>\n",
       "  </tbody>\n",
       "</table>\n",
       "</div>"
      ],
      "text/plain": [
       "           tweet_id  rating_numerator  rating_denominator  favorite_count  \\\n",
       "count  1.497000e+03       1497.000000              1497.0     1497.000000   \n",
       "mean   7.492926e+17         11.954576                10.0     8156.591182   \n",
       "std    6.947636e+16         20.576694                 0.0    12289.106797   \n",
       "min    6.660209e+17          1.000000                10.0        0.000000   \n",
       "25%    6.824295e+17         10.000000                10.0     1374.000000   \n",
       "50%    7.388834e+17         11.000000                10.0     3684.000000   \n",
       "75%    8.094487e+17         12.000000                10.0    10214.000000   \n",
       "max    8.921774e+17        666.000000                10.0   142861.000000   \n",
       "\n",
       "       retweet_count  \n",
       "count    1497.000000  \n",
       "mean     3054.793587  \n",
       "std      4967.939047  \n",
       "min         0.000000  \n",
       "25%       622.000000  \n",
       "50%      1493.000000  \n",
       "75%      3585.000000  \n",
       "max     60820.000000  "
      ]
     },
     "execution_count": 110,
     "metadata": {},
     "output_type": "execute_result"
    }
   ],
   "source": [
    "# look at the dataset values for `rating_numerator` column\n",
    "\n",
    "twitter_master.describe()"
   ]
  },
  {
   "cell_type": "code",
   "execution_count": 133,
   "metadata": {},
   "outputs": [
    {
     "data": {
      "text/plain": [
       "12    401\n",
       "11    303\n",
       "10    290\n",
       "13    257\n",
       "9      99\n",
       "Name: rating_numerator, dtype: int64"
      ]
     },
     "execution_count": 133,
     "metadata": {},
     "output_type": "execute_result"
    }
   ],
   "source": [
    "# look at the value counts to have an image in mind of the data\n",
    "\n",
    "twitter_master['rating_numerator'].value_counts().head()"
   ]
  },
  {
   "cell_type": "code",
   "execution_count": 141,
   "metadata": {},
   "outputs": [
    {
     "data": {
      "image/png": "[encoded data removed]",
      "text/plain": [
       "<matplotlib.figure.Figure at 0x7f37b3905e48>"
      ]
     },
     "metadata": {},
     "output_type": "display_data"
    }
   ],
   "source": [
    "# plot values Vs. counts to see the range of values \n",
    "\n",
    "% matplotlib inline\n",
    "vals =   [1,2,3,4,5,6,7,8,9,10,11,12,13,14,15,17,26,27,75,182,420,666]\n",
    "counts = [4,1,1,4,12,8,18,57,99,290,303,401,257,34,1,1,1,1,1,1,1,1]\n",
    "                               \n",
    "plt.bar(vals, counts, align = 'center')\n",
    "plt.xlabel('Rating Score Values')\n",
    "plt.xlim(xmin = 1, xmax = 20)\n",
    "plt.ylabel('Rating Counts')\n",
    "plt.title('Rating Score Values Counts')\n",
    "plt.show()"
   ]
  },
  {
   "cell_type": "markdown",
   "metadata": {},
   "source": [
    "##### We can see that rating score ranges from 1 to 666 with highest peak at 12 .  \n",
    "##### of course they are funny numbers but the center of the plot is telling the truth!\n",
    "##### most people rated between 10 and 12 out of 10 "
   ]
  },
  {
   "cell_type": "markdown",
   "metadata": {},
   "source": [
    "### Question 3: which year has the most tweets for the hashtag ?"
   ]
  },
  {
   "cell_type": "code",
   "execution_count": 156,
   "metadata": {},
   "outputs": [
    {
     "data": {
      "text/plain": [
       "2015-11-19    18\n",
       "2015-11-16    16\n",
       "2015-11-29    13\n",
       "2015-11-25    13\n",
       "2015-12-08    13\n",
       "Name: date, dtype: int64"
      ]
     },
     "execution_count": 156,
     "metadata": {},
     "output_type": "execute_result"
    }
   ],
   "source": [
    "twitter_master.date.value_counts().head()"
   ]
  },
  {
   "cell_type": "code",
   "execution_count": 157,
   "metadata": {},
   "outputs": [
    {
     "data": {
      "text/plain": [
       "(array([412., 179., 133., 118., 109., 133., 123., 115.,  89.,  86.]),\n",
       " array([  0.,  55., 110., 165., 220., 275., 330., 385., 440., 495., 550.]),\n",
       " <a list of 10 Patch objects>)"
      ]
     },
     "execution_count": 157,
     "metadata": {},
     "output_type": "execute_result"
    },
    {
     "data": {
      "image/png": "[encoded data removed]",
      "text/plain": [
       "<matplotlib.figure.Figure at 0x7f37b38d4550>"
      ]
     },
     "metadata": {},
     "output_type": "display_data"
    }
   ],
   "source": [
    "plt.hist(twitter_master.date)"
   ]
  },
  {
   "cell_type": "code",
   "execution_count": null,
   "metadata": {},
   "outputs": [],
   "source": []
  }
 ],
 "metadata": {
  "kernelspec": {
   "display_name": "Python [default]",
   "language": "python",
   "name": "python3"
  },
  "language_info": {
   "codemirror_mode": {
    "name": "ipython",
    "version": 3
   },
   "file_extension": ".py",
   "mimetype": "text/x-python",
   "name": "python",
   "nbconvert_exporter": "python",
   "pygments_lexer": "ipython3",
   "version": "3.6.4"
  }
 },
 "nbformat": 4,
 "nbformat_minor": 2
}
