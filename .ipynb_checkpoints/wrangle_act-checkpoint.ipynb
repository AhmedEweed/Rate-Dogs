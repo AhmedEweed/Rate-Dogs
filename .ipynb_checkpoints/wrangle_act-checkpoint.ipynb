{
 "cells": [
  {
   "cell_type": "code",
   "execution_count": 189,
   "metadata": {},
   "outputs": [],
   "source": [
    "# Import required libraries\n",
    "\n",
    "import requests\n",
    "import tweepy\n",
    "import pandas as pd\n",
    "import json\n",
    "import datetime "
   ]
  },
  {
   "cell_type": "markdown",
   "metadata": {},
   "source": [
    "## Gather"
   ]
  },
  {
   "cell_type": "code",
   "execution_count": 3,
   "metadata": {},
   "outputs": [],
   "source": [
    "# Download the tweet image predictions tsv file via requests library\n",
    "\n",
    "url = 'https://d17h27t6h515a5.cloudfront.net/topher/2017/August/599fd2ad_image-predictions/image-predictions.tsv'\n",
    "response = requests.get(url)\n",
    "with open(url.split('/')[-1], mode = 'wb') as file:\n",
    "    file.write(response.content)"
   ]
  },
  {
   "cell_type": "code",
   "execution_count": 134,
   "metadata": {},
   "outputs": [],
   "source": [
    "# Read `image predictions tsv file`\n",
    "\n",
    "predict_dog = pd.read_csv('image-predictions.tsv', sep = '\\t')"
   ]
  },
  {
   "cell_type": "code",
   "execution_count": 135,
   "metadata": {},
   "outputs": [],
   "source": [
    "# Read `twitter archive enhanced.csv` file to get tweet ids for API\n",
    "\n",
    "twitter_df = pd.read_csv('twitter-archive-enhanced.csv')\n",
    "# extract tweet ids only for use in API\n",
    "\n",
    "tweet_id = twitter_df['tweet_id']"
   ]
  },
  {
   "cell_type": "code",
   "execution_count": 4,
   "metadata": {},
   "outputs": [],
   "source": [
    "# Authenticate Tweepy PI\n",
    "\n",
    "consumer_key = ''\n",
    "consumer_secret = ''\n",
    "access_token = ''\n",
    "access_secret = ''\n",
    "\n",
    "auth = tweepy.OAuthHandler(consumer_key, consumer_secret)\n",
    "auth.set_access_token(access_token, access_secret)\n",
    "api = tweepy.API(auth, wait_on_rate_limit = True, wait_on_rate_limit_notify = True,\n",
    "                 parser=tweepy.parsers.JSONParser())"
   ]
  },
  {
   "cell_type": "code",
   "execution_count": 5,
   "metadata": {
    "scrolled": false
   },
   "outputs": [
    {
     "name": "stderr",
     "output_type": "stream",
     "text": [
      "Rate limit reached. Sleeping for: 348\n",
      "Rate limit reached. Sleeping for: 242\n"
     ]
    }
   ],
   "source": [
    "# Get tweet JSON data using tweet ID via Tweepy \n",
    "\n",
    "tweet_json = []\n",
    "error_list = []\n",
    "for i in tweet_id:\n",
    "    try:\n",
    "        tweet = api.get_status(i, tweet_mode = 'extended')\n",
    "        tweet_json.append(tweet)\n",
    "    except:\n",
    "        error_list.append(i)\n",
    "        continue"
   ]
  },
  {
   "cell_type": "code",
   "execution_count": 7,
   "metadata": {},
   "outputs": [],
   "source": [
    "# Write JSON data to tweet_json.txt file with each tweet's JSON data on its own line\n",
    "\n",
    "with open('tweet_json.txt', 'w') as outfile:\n",
    "    json.dump(tweet_json, outfile, indent = True)"
   ]
  },
  {
   "cell_type": "code",
   "execution_count": 136,
   "metadata": {},
   "outputs": [],
   "source": [
    "# Read tweet_json.txt file into a pandas data frame \n",
    "\n",
    "pd_json = pd.read_json('tweet_json.txt', orient = 'columns')"
   ]
  },
  {
   "cell_type": "code",
   "execution_count": 137,
   "metadata": {},
   "outputs": [],
   "source": [
    "# Extract only needed columns (tweet_id, favorite_count, retweet_count)\n",
    "# Save it to tweet_json\n",
    "\n",
    "tweet_json = pd_json[['id','favorite_count','retweet_count']]"
   ]
  },
  {
   "cell_type": "markdown",
   "metadata": {},
   "source": [
    "# Assess"
   ]
  },
  {
   "cell_type": "markdown",
   "metadata": {},
   "source": [
    "### Quality\n",
    "##### `twitter_df` table\n",
    "- some tweets was deleted or invalid (2356 instead of 2345)\n",
    "- missing data in `in_reply_to_status_id` column\n",
    "- missing data in `in_reply_to_user_id` column\n",
    "- missing data in `retweeted_status_id` column\n",
    "- missing data in `retweeted_status_user_id` column\n",
    "- missing data in `retweeted_status_timestamp` column\n",
    "- `source` and `expanded_urls` columns are not relevant to our analysis\n",
    "- `name` content is not always a name, sometimes it's an adjective or articles\n",
    "\n",
    "\n",
    "\n",
    "##### `predict_dog` table\n",
    "- missing records because some tweets are without images (2075 instead of 2356) or invalid or deleted\n",
    "- not all images are for dogs! some images are for other animals\n",
    "\n",
    "##### `tweet_json` table\n",
    "- `id` column name is not consistent with other tables same column names"
   ]
  },
  {
   "cell_type": "markdown",
   "metadata": {},
   "source": [
    "### Tidiness\n",
    "##### `twitter_df` table\n",
    "- `doggo`, `floofer`, `pupper` and `puppo` should be values for a `stage` column not seperate columns\n",
    "- `time stamp` column should be two separate columns for `date` and `time`\n",
    "\n",
    "##### `tweet_json` table\n",
    "- the whole table should be merged with `twitter_archive` table "
   ]
  },
  {
   "cell_type": "code",
   "execution_count": 138,
   "metadata": {},
   "outputs": [],
   "source": [
    "# Make a copy of the datasets to work with and clean\n",
    "\n",
    "twitter_df_clean = twitter_df.copy()\n",
    "predict_dog_clean = predict_dog.copy()\n",
    "tweet_json_clean = tweet_json.copy()"
   ]
  },
  {
   "cell_type": "markdown",
   "metadata": {},
   "source": [
    "# Clean\n",
    "### Define\n",
    "### Quality \n",
    "##### `twitter_df_clean` table\n",
    "- remove all records with ids in `error_list`"
   ]
  },
  {
   "cell_type": "markdown",
   "metadata": {},
   "source": [
    "### Code"
   ]
  },
  {
   "cell_type": "code",
   "execution_count": 139,
   "metadata": {},
   "outputs": [],
   "source": [
    "# remove all records with ids in `error_list`\n",
    "\n",
    "for record in error_list:\n",
    "    twitter_df_clean.drop(twitter_df_clean[twitter_df_clean.tweet_id == record].index, inplace = True)"
   ]
  },
  {
   "cell_type": "markdown",
   "metadata": {},
   "source": [
    "### Test"
   ]
  },
  {
   "cell_type": "code",
   "execution_count": 140,
   "metadata": {},
   "outputs": [
    {
     "data": {
      "text/plain": [
       "False    2344\n",
       "Name: tweet_id, dtype: int64"
      ]
     },
     "execution_count": 140,
     "metadata": {},
     "output_type": "execute_result"
    }
   ],
   "source": [
    "# check if any record with id from error_list still exists!\n",
    "\n",
    "twitter_df_clean['tweet_id'].isin(error_list).value_counts()"
   ]
  },
  {
   "cell_type": "markdown",
   "metadata": {},
   "source": [
    "### Define\n",
    "### Quality\n",
    "##### `twitter_df_clean` table\n",
    "- drop `in_reply_to_status_id`, `in_reply_to_user_id`, `retweeted_status_id`,  \n",
    "  `retweeted_status_user_id`, `retweeted_status_timestamp`, `source` and `expanded_urls` columns"
   ]
  },
  {
   "cell_type": "markdown",
   "metadata": {},
   "source": [
    "### Code"
   ]
  },
  {
   "cell_type": "code",
   "execution_count": 141,
   "metadata": {},
   "outputs": [],
   "source": [
    "# drop 'in_reply_to_status_id', 'in_reply_to_user_id', 'retweeted_status_id',\n",
    "# 'retweeted_status_user_id' and 'retweeted_status_timestamp' columns from `twitter_archive_clean` table\n",
    "\n",
    "twitter_df_clean.drop(columns = ['in_reply_to_status_id', 'in_reply_to_user_id',\n",
    "                                 'retweeted_status_id', 'retweeted_status_user_id',\n",
    "                                 'retweeted_status_timestamp', \n",
    "                                 'source', 'expanded_urls'], inplace = True)"
   ]
  },
  {
   "cell_type": "markdown",
   "metadata": {},
   "source": [
    "### Test"
   ]
  },
  {
   "cell_type": "code",
   "execution_count": 248,
   "metadata": {
    "scrolled": false
   },
   "outputs": [
    {
     "data": {
      "text/html": [
       "<div>\n",
       "<style scoped>\n",
       "    .dataframe tbody tr th:only-of-type {\n",
       "        vertical-align: middle;\n",
       "    }\n",
       "\n",
       "    .dataframe tbody tr th {\n",
       "        vertical-align: top;\n",
       "    }\n",
       "\n",
       "    .dataframe thead th {\n",
       "        text-align: right;\n",
       "    }\n",
       "</style>\n",
       "<table border=\"1\" class=\"dataframe\">\n",
       "  <thead>\n",
       "    <tr style=\"text-align: right;\">\n",
       "      <th></th>\n",
       "      <th>tweet_id</th>\n",
       "      <th>text</th>\n",
       "      <th>rating_numerator</th>\n",
       "      <th>rating_denominator</th>\n",
       "      <th>name</th>\n",
       "      <th>doggo</th>\n",
       "      <th>floofer</th>\n",
       "      <th>pupper</th>\n",
       "      <th>puppo</th>\n",
       "      <th>date</th>\n",
       "      <th>time</th>\n",
       "    </tr>\n",
       "  </thead>\n",
       "  <tbody>\n",
       "    <tr>\n",
       "      <th>2351</th>\n",
       "      <td>666049248165822465</td>\n",
       "      <td>Here we have a 1949 1st generation vulpix. Enj...</td>\n",
       "      <td>5</td>\n",
       "      <td>10</td>\n",
       "      <td>None</td>\n",
       "      <td>None</td>\n",
       "      <td>None</td>\n",
       "      <td>None</td>\n",
       "      <td>None</td>\n",
       "      <td>2015-11-16</td>\n",
       "      <td>00:24:50</td>\n",
       "    </tr>\n",
       "    <tr>\n",
       "      <th>2352</th>\n",
       "      <td>666044226329800704</td>\n",
       "      <td>This is a purebred Piers Morgan. Loves to Netf...</td>\n",
       "      <td>6</td>\n",
       "      <td>10</td>\n",
       "      <td>a</td>\n",
       "      <td>None</td>\n",
       "      <td>None</td>\n",
       "      <td>None</td>\n",
       "      <td>None</td>\n",
       "      <td>2015-11-16</td>\n",
       "      <td>00:04:52</td>\n",
       "    </tr>\n",
       "    <tr>\n",
       "      <th>2353</th>\n",
       "      <td>666033412701032449</td>\n",
       "      <td>Here is a very happy pup. Big fan of well-main...</td>\n",
       "      <td>9</td>\n",
       "      <td>10</td>\n",
       "      <td>a</td>\n",
       "      <td>None</td>\n",
       "      <td>None</td>\n",
       "      <td>None</td>\n",
       "      <td>None</td>\n",
       "      <td>2015-11-15</td>\n",
       "      <td>23:21:54</td>\n",
       "    </tr>\n",
       "    <tr>\n",
       "      <th>2354</th>\n",
       "      <td>666029285002620928</td>\n",
       "      <td>This is a western brown Mitsubishi terrier. Up...</td>\n",
       "      <td>7</td>\n",
       "      <td>10</td>\n",
       "      <td>a</td>\n",
       "      <td>None</td>\n",
       "      <td>None</td>\n",
       "      <td>None</td>\n",
       "      <td>None</td>\n",
       "      <td>2015-11-15</td>\n",
       "      <td>23:05:30</td>\n",
       "    </tr>\n",
       "    <tr>\n",
       "      <th>2355</th>\n",
       "      <td>666020888022790149</td>\n",
       "      <td>Here we have a Japanese Irish Setter. Lost eye...</td>\n",
       "      <td>8</td>\n",
       "      <td>10</td>\n",
       "      <td>None</td>\n",
       "      <td>None</td>\n",
       "      <td>None</td>\n",
       "      <td>None</td>\n",
       "      <td>None</td>\n",
       "      <td>2015-11-15</td>\n",
       "      <td>22:32:08</td>\n",
       "    </tr>\n",
       "  </tbody>\n",
       "</table>\n",
       "</div>"
      ],
      "text/plain": [
       "                tweet_id                                               text  \\\n",
       "2351  666049248165822465  Here we have a 1949 1st generation vulpix. Enj...   \n",
       "2352  666044226329800704  This is a purebred Piers Morgan. Loves to Netf...   \n",
       "2353  666033412701032449  Here is a very happy pup. Big fan of well-main...   \n",
       "2354  666029285002620928  This is a western brown Mitsubishi terrier. Up...   \n",
       "2355  666020888022790149  Here we have a Japanese Irish Setter. Lost eye...   \n",
       "\n",
       "      rating_numerator  rating_denominator  name doggo floofer pupper puppo  \\\n",
       "2351                 5                  10  None  None    None   None  None   \n",
       "2352                 6                  10     a  None    None   None  None   \n",
       "2353                 9                  10     a  None    None   None  None   \n",
       "2354                 7                  10     a  None    None   None  None   \n",
       "2355                 8                  10  None  None    None   None  None   \n",
       "\n",
       "            date      time  \n",
       "2351  2015-11-16  00:24:50  \n",
       "2352  2015-11-16  00:04:52  \n",
       "2353  2015-11-15  23:21:54  \n",
       "2354  2015-11-15  23:05:30  \n",
       "2355  2015-11-15  22:32:08  "
      ]
     },
     "execution_count": 248,
     "metadata": {},
     "output_type": "execute_result"
    }
   ],
   "source": [
    "# look at the data frame to see the columns is removed\n",
    "\n",
    "twitter_df_clean.tail()"
   ]
  },
  {
   "cell_type": "markdown",
   "metadata": {},
   "source": [
    "### Define\n",
    "### Quality\n",
    "##### `twitter_df_clean` table\n",
    "-  remove non-dog contents to ensure they are dog only records"
   ]
  },
  {
   "cell_type": "markdown",
   "metadata": {},
   "source": [
    "### Code"
   ]
  },
  {
   "cell_type": "code",
   "execution_count": 145,
   "metadata": {},
   "outputs": [],
   "source": [
    "# make sure all records are for dogs by matching the `predict_dog_clean` non-dog ids with ones in `twitter_df_clean`\n",
    "\n",
    "non_dogs = predict_dog_clean[(predict_dog_clean.p1_dog == False)\n",
    "                                         | (predict_dog_clean.p2_dog == False)\n",
    "                                         | (predict_dog_clean.p3_dog == False)].tweet_id"
   ]
  },
  {
   "cell_type": "code",
   "execution_count": 147,
   "metadata": {},
   "outputs": [],
   "source": [
    "# remove all non-dog records in twitter_df_clean\n",
    "\n",
    "for record in non_dogs:\n",
    "    twitter_df_clean.drop(twitter_df_clean[twitter_df_clean.tweet_id == record].index, inplace = True)"
   ]
  },
  {
   "cell_type": "markdown",
   "metadata": {},
   "source": [
    "### Test"
   ]
  },
  {
   "cell_type": "code",
   "execution_count": 158,
   "metadata": {},
   "outputs": [
    {
     "data": {
      "text/plain": [
       "False    1515\n",
       "Name: tweet_id, dtype: int64"
      ]
     },
     "execution_count": 158,
     "metadata": {},
     "output_type": "execute_result"
    }
   ],
   "source": [
    "# check if any record with id from non_dogs still exists!\n",
    "\n",
    "twitter_df_clean['tweet_id'].isin(non_dogs).value_counts()"
   ]
  },
  {
   "cell_type": "markdown",
   "metadata": {},
   "source": [
    "### Define\n",
    "### Quality \n",
    "##### `predict_dog_clean` table\n",
    "- remove all non dog records by keeping only the records where `p1_dog`, `p2_dog`, `p3_dog` are all `True`\n"
   ]
  },
  {
   "cell_type": "markdown",
   "metadata": {},
   "source": [
    "### Code"
   ]
  },
  {
   "cell_type": "code",
   "execution_count": 160,
   "metadata": {},
   "outputs": [],
   "source": [
    "# remove all non-dog records by keeping only the records where `p1_dog`, `p2_dog`, `p3_dog` are all `True`\n",
    "\n",
    "predict_dog_clean.drop(predict_dog_clean[(predict_dog_clean.p1_dog == False)\n",
    "                                         | (predict_dog_clean.p2_dog == False)\n",
    "                                         | (predict_dog_clean.p3_dog == False)].index, inplace = True)"
   ]
  },
  {
   "cell_type": "markdown",
   "metadata": {},
   "source": [
    "### Test"
   ]
  },
  {
   "cell_type": "code",
   "execution_count": 161,
   "metadata": {
    "scrolled": false
   },
   "outputs": [
    {
     "data": {
      "text/plain": [
       "False    1243\n",
       "Name: tweet_id, dtype: int64"
      ]
     },
     "execution_count": 161,
     "metadata": {},
     "output_type": "execute_result"
    }
   ],
   "source": [
    "# Check if any non-dog record exists!\n",
    "\n",
    "predict_dog_clean['tweet_id'].isin(non_dogs).value_counts()"
   ]
  },
  {
   "cell_type": "markdown",
   "metadata": {},
   "source": [
    "### Define\n",
    "### Quality \n",
    "##### `tweet_json_clean` table\n",
    "- rename `id` column to `tweet_id` for consistency with other tables"
   ]
  },
  {
   "cell_type": "markdown",
   "metadata": {},
   "source": [
    "### Code"
   ]
  },
  {
   "cell_type": "code",
   "execution_count": 249,
   "metadata": {},
   "outputs": [],
   "source": [
    "# rename `id` column to `tweet_id` for consistency with other tables\n",
    "\n",
    "tweet_json_clean = tweet_json_clean.rename(columns = {'id' : 'tweet_id'})"
   ]
  },
  {
   "cell_type": "markdown",
   "metadata": {},
   "source": [
    "### Test"
   ]
  },
  {
   "cell_type": "code",
   "execution_count": 250,
   "metadata": {},
   "outputs": [
    {
     "data": {
      "text/html": [
       "<div>\n",
       "<style scoped>\n",
       "    .dataframe tbody tr th:only-of-type {\n",
       "        vertical-align: middle;\n",
       "    }\n",
       "\n",
       "    .dataframe tbody tr th {\n",
       "        vertical-align: top;\n",
       "    }\n",
       "\n",
       "    .dataframe thead th {\n",
       "        text-align: right;\n",
       "    }\n",
       "</style>\n",
       "<table border=\"1\" class=\"dataframe\">\n",
       "  <thead>\n",
       "    <tr style=\"text-align: right;\">\n",
       "      <th></th>\n",
       "      <th>tweet_id</th>\n",
       "      <th>favorite_count</th>\n",
       "      <th>retweet_count</th>\n",
       "    </tr>\n",
       "  </thead>\n",
       "  <tbody>\n",
       "    <tr>\n",
       "      <th>0</th>\n",
       "      <td>892420643555336193</td>\n",
       "      <td>38680</td>\n",
       "      <td>8555</td>\n",
       "    </tr>\n",
       "    <tr>\n",
       "      <th>1</th>\n",
       "      <td>892177421306343426</td>\n",
       "      <td>33136</td>\n",
       "      <td>6288</td>\n",
       "    </tr>\n",
       "    <tr>\n",
       "      <th>2</th>\n",
       "      <td>891815181378084864</td>\n",
       "      <td>24947</td>\n",
       "      <td>4170</td>\n",
       "    </tr>\n",
       "    <tr>\n",
       "      <th>3</th>\n",
       "      <td>891689557279858688</td>\n",
       "      <td>42054</td>\n",
       "      <td>8684</td>\n",
       "    </tr>\n",
       "    <tr>\n",
       "      <th>4</th>\n",
       "      <td>891327558926688256</td>\n",
       "      <td>40215</td>\n",
       "      <td>9445</td>\n",
       "    </tr>\n",
       "  </tbody>\n",
       "</table>\n",
       "</div>"
      ],
      "text/plain": [
       "             tweet_id  favorite_count  retweet_count\n",
       "0  892420643555336193           38680           8555\n",
       "1  892177421306343426           33136           6288\n",
       "2  891815181378084864           24947           4170\n",
       "3  891689557279858688           42054           8684\n",
       "4  891327558926688256           40215           9445"
      ]
     },
     "execution_count": 250,
     "metadata": {},
     "output_type": "execute_result"
    }
   ],
   "source": [
    "# check the column name is changed \n",
    "\n",
    "tweet_json_clean.head()"
   ]
  },
  {
   "cell_type": "markdown",
   "metadata": {},
   "source": [
    "### Define\n",
    "### Tidiness\n",
    "##### `twitter_df_clean` table\n",
    "- melt `doggo`, `floofer`, `pupper` and `puppo` as values for a `stage` column "
   ]
  },
  {
   "cell_type": "markdown",
   "metadata": {},
   "source": [
    "### Code"
   ]
  },
  {
   "cell_type": "code",
   "execution_count": 275,
   "metadata": {},
   "outputs": [],
   "source": [
    "# melt `doggo`, `floofer`, `pupper` and `puppo` as values for a `stage` column \n",
    "\n"
   ]
  },
  {
   "cell_type": "markdown",
   "metadata": {},
   "source": [
    "### Test"
   ]
  },
  {
   "cell_type": "code",
   "execution_count": 277,
   "metadata": {
    "scrolled": false
   },
   "outputs": [
    {
     "data": {
      "text/html": [
       "<div>\n",
       "<style scoped>\n",
       "    .dataframe tbody tr th:only-of-type {\n",
       "        vertical-align: middle;\n",
       "    }\n",
       "\n",
       "    .dataframe tbody tr th {\n",
       "        vertical-align: top;\n",
       "    }\n",
       "\n",
       "    .dataframe thead th {\n",
       "        text-align: right;\n",
       "    }\n",
       "</style>\n",
       "<table border=\"1\" class=\"dataframe\">\n",
       "  <thead>\n",
       "    <tr style=\"text-align: right;\">\n",
       "      <th></th>\n",
       "      <th>tweet_id</th>\n",
       "      <th>text</th>\n",
       "      <th>rating_numerator</th>\n",
       "      <th>rating_denominator</th>\n",
       "      <th>name</th>\n",
       "      <th>doggo</th>\n",
       "      <th>floofer</th>\n",
       "      <th>pupper</th>\n",
       "      <th>puppo</th>\n",
       "      <th>date</th>\n",
       "      <th>time</th>\n",
       "      <th>favorite_count</th>\n",
       "      <th>retweet_count</th>\n",
       "    </tr>\n",
       "  </thead>\n",
       "  <tbody>\n",
       "    <tr>\n",
       "      <th>0</th>\n",
       "      <td>892177421306343426</td>\n",
       "      <td>This is Tilly. She's just checking pup on you....</td>\n",
       "      <td>13</td>\n",
       "      <td>10</td>\n",
       "      <td>Tilly</td>\n",
       "      <td>None</td>\n",
       "      <td>None</td>\n",
       "      <td>None</td>\n",
       "      <td>None</td>\n",
       "      <td>2017-08-01</td>\n",
       "      <td>00:17:27</td>\n",
       "      <td>33136</td>\n",
       "      <td>6288</td>\n",
       "    </tr>\n",
       "    <tr>\n",
       "      <th>1</th>\n",
       "      <td>891815181378084864</td>\n",
       "      <td>This is Archie. He is a rare Norwegian Pouncin...</td>\n",
       "      <td>12</td>\n",
       "      <td>10</td>\n",
       "      <td>Archie</td>\n",
       "      <td>None</td>\n",
       "      <td>None</td>\n",
       "      <td>None</td>\n",
       "      <td>None</td>\n",
       "      <td>2017-07-31</td>\n",
       "      <td>00:18:03</td>\n",
       "      <td>24947</td>\n",
       "      <td>4170</td>\n",
       "    </tr>\n",
       "    <tr>\n",
       "      <th>2</th>\n",
       "      <td>891327558926688256</td>\n",
       "      <td>This is Franklin. He would like you to stop ca...</td>\n",
       "      <td>12</td>\n",
       "      <td>10</td>\n",
       "      <td>Franklin</td>\n",
       "      <td>None</td>\n",
       "      <td>None</td>\n",
       "      <td>None</td>\n",
       "      <td>None</td>\n",
       "      <td>2017-07-29</td>\n",
       "      <td>16:00:24</td>\n",
       "      <td>40215</td>\n",
       "      <td>9445</td>\n",
       "    </tr>\n",
       "    <tr>\n",
       "      <th>3</th>\n",
       "      <td>890729181411237888</td>\n",
       "      <td>When you watch your owner call another dog a g...</td>\n",
       "      <td>13</td>\n",
       "      <td>10</td>\n",
       "      <td>None</td>\n",
       "      <td>None</td>\n",
       "      <td>None</td>\n",
       "      <td>None</td>\n",
       "      <td>None</td>\n",
       "      <td>2017-07-28</td>\n",
       "      <td>00:22:40</td>\n",
       "      <td>65317</td>\n",
       "      <td>18968</td>\n",
       "    </tr>\n",
       "    <tr>\n",
       "      <th>4</th>\n",
       "      <td>890609185150312448</td>\n",
       "      <td>This is Zoey. She doesn't want to be one of th...</td>\n",
       "      <td>13</td>\n",
       "      <td>10</td>\n",
       "      <td>Zoey</td>\n",
       "      <td>None</td>\n",
       "      <td>None</td>\n",
       "      <td>None</td>\n",
       "      <td>None</td>\n",
       "      <td>2017-07-27</td>\n",
       "      <td>16:25:51</td>\n",
       "      <td>27709</td>\n",
       "      <td>4278</td>\n",
       "    </tr>\n",
       "  </tbody>\n",
       "</table>\n",
       "</div>"
      ],
      "text/plain": [
       "             tweet_id                                               text  \\\n",
       "0  892177421306343426  This is Tilly. She's just checking pup on you....   \n",
       "1  891815181378084864  This is Archie. He is a rare Norwegian Pouncin...   \n",
       "2  891327558926688256  This is Franklin. He would like you to stop ca...   \n",
       "3  890729181411237888  When you watch your owner call another dog a g...   \n",
       "4  890609185150312448  This is Zoey. She doesn't want to be one of th...   \n",
       "\n",
       "  rating_numerator rating_denominator      name doggo floofer pupper puppo  \\\n",
       "0               13                 10     Tilly  None    None   None  None   \n",
       "1               12                 10    Archie  None    None   None  None   \n",
       "2               12                 10  Franklin  None    None   None  None   \n",
       "3               13                 10      None  None    None   None  None   \n",
       "4               13                 10      Zoey  None    None   None  None   \n",
       "\n",
       "         date      time favorite_count retweet_count  \n",
       "0  2017-08-01  00:17:27          33136          6288  \n",
       "1  2017-07-31  00:18:03          24947          4170  \n",
       "2  2017-07-29  16:00:24          40215          9445  \n",
       "3  2017-07-28  00:22:40          65317         18968  \n",
       "4  2017-07-27  16:25:51          27709          4278  "
      ]
     },
     "execution_count": 277,
     "metadata": {},
     "output_type": "execute_result"
    }
   ],
   "source": [
    "twitter_df_clean.head()"
   ]
  },
  {
   "cell_type": "markdown",
   "metadata": {},
   "source": [
    "### Define\n",
    "### Tidiness\n",
    "##### `twitter_df_clean` table\n",
    "- split `time stamp` column to two separate columns `date` and `time`"
   ]
  },
  {
   "cell_type": "markdown",
   "metadata": {},
   "source": [
    "### Code"
   ]
  },
  {
   "cell_type": "code",
   "execution_count": 216,
   "metadata": {},
   "outputs": [],
   "source": [
    "# First, convert the `timestamp` column type to datetime\n",
    "\n",
    "twitter_df_clean['timestamp'] = pd.to_datetime(twitter_df_clean['timestamp'])"
   ]
  },
  {
   "cell_type": "code",
   "execution_count": 241,
   "metadata": {},
   "outputs": [],
   "source": [
    "# second, split `time stamp` column to two separate columns `date` and `time`\n",
    "\n",
    "twitter_df_clean['date'] = [d.date() for d in twitter_df_clean['timestamp']]\n",
    "twitter_df_clean['time'] = [d.time() for d in twitter_df_clean['timestamp']]"
   ]
  },
  {
   "cell_type": "code",
   "execution_count": 244,
   "metadata": {},
   "outputs": [],
   "source": [
    "# finally, drop the `timestamp` column as it is no longer needed\n",
    "\n",
    "twitter_df_clean.drop(columns = ['timestamp'], inplace = True)"
   ]
  },
  {
   "cell_type": "markdown",
   "metadata": {},
   "source": [
    "### Test"
   ]
  },
  {
   "cell_type": "code",
   "execution_count": 245,
   "metadata": {},
   "outputs": [
    {
     "name": "stdout",
     "output_type": "stream",
     "text": [
      "<class 'pandas.core.frame.DataFrame'>\n",
      "Int64Index: 1515 entries, 1 to 2355\n",
      "Data columns (total 11 columns):\n",
      "tweet_id              1515 non-null int64\n",
      "text                  1515 non-null object\n",
      "rating_numerator      1515 non-null int64\n",
      "rating_denominator    1515 non-null int64\n",
      "name                  1515 non-null object\n",
      "doggo                 1515 non-null object\n",
      "floofer               1515 non-null object\n",
      "pupper                1515 non-null object\n",
      "puppo                 1515 non-null object\n",
      "date                  1515 non-null object\n",
      "time                  1515 non-null object\n",
      "dtypes: int64(3), object(8)\n",
      "memory usage: 182.0+ KB\n"
     ]
    }
   ],
   "source": [
    "# check type of `timestamp` column is datetime\n",
    "\n",
    "twitter_df_clean.info()"
   ]
  },
  {
   "cell_type": "code",
   "execution_count": 246,
   "metadata": {},
   "outputs": [
    {
     "data": {
      "text/html": [
       "<div>\n",
       "<style scoped>\n",
       "    .dataframe tbody tr th:only-of-type {\n",
       "        vertical-align: middle;\n",
       "    }\n",
       "\n",
       "    .dataframe tbody tr th {\n",
       "        vertical-align: top;\n",
       "    }\n",
       "\n",
       "    .dataframe thead th {\n",
       "        text-align: right;\n",
       "    }\n",
       "</style>\n",
       "<table border=\"1\" class=\"dataframe\">\n",
       "  <thead>\n",
       "    <tr style=\"text-align: right;\">\n",
       "      <th></th>\n",
       "      <th>tweet_id</th>\n",
       "      <th>text</th>\n",
       "      <th>rating_numerator</th>\n",
       "      <th>rating_denominator</th>\n",
       "      <th>name</th>\n",
       "      <th>doggo</th>\n",
       "      <th>floofer</th>\n",
       "      <th>pupper</th>\n",
       "      <th>puppo</th>\n",
       "      <th>date</th>\n",
       "      <th>time</th>\n",
       "    </tr>\n",
       "  </thead>\n",
       "  <tbody>\n",
       "    <tr>\n",
       "      <th>1</th>\n",
       "      <td>892177421306343426</td>\n",
       "      <td>This is Tilly. She's just checking pup on you....</td>\n",
       "      <td>13</td>\n",
       "      <td>10</td>\n",
       "      <td>Tilly</td>\n",
       "      <td>None</td>\n",
       "      <td>None</td>\n",
       "      <td>None</td>\n",
       "      <td>None</td>\n",
       "      <td>2017-08-01</td>\n",
       "      <td>00:17:27</td>\n",
       "    </tr>\n",
       "    <tr>\n",
       "      <th>2</th>\n",
       "      <td>891815181378084864</td>\n",
       "      <td>This is Archie. He is a rare Norwegian Pouncin...</td>\n",
       "      <td>12</td>\n",
       "      <td>10</td>\n",
       "      <td>Archie</td>\n",
       "      <td>None</td>\n",
       "      <td>None</td>\n",
       "      <td>None</td>\n",
       "      <td>None</td>\n",
       "      <td>2017-07-31</td>\n",
       "      <td>00:18:03</td>\n",
       "    </tr>\n",
       "    <tr>\n",
       "      <th>4</th>\n",
       "      <td>891327558926688256</td>\n",
       "      <td>This is Franklin. He would like you to stop ca...</td>\n",
       "      <td>12</td>\n",
       "      <td>10</td>\n",
       "      <td>Franklin</td>\n",
       "      <td>None</td>\n",
       "      <td>None</td>\n",
       "      <td>None</td>\n",
       "      <td>None</td>\n",
       "      <td>2017-07-29</td>\n",
       "      <td>16:00:24</td>\n",
       "    </tr>\n",
       "    <tr>\n",
       "      <th>7</th>\n",
       "      <td>890729181411237888</td>\n",
       "      <td>When you watch your owner call another dog a g...</td>\n",
       "      <td>13</td>\n",
       "      <td>10</td>\n",
       "      <td>None</td>\n",
       "      <td>None</td>\n",
       "      <td>None</td>\n",
       "      <td>None</td>\n",
       "      <td>None</td>\n",
       "      <td>2017-07-28</td>\n",
       "      <td>00:22:40</td>\n",
       "    </tr>\n",
       "    <tr>\n",
       "      <th>8</th>\n",
       "      <td>890609185150312448</td>\n",
       "      <td>This is Zoey. She doesn't want to be one of th...</td>\n",
       "      <td>13</td>\n",
       "      <td>10</td>\n",
       "      <td>Zoey</td>\n",
       "      <td>None</td>\n",
       "      <td>None</td>\n",
       "      <td>None</td>\n",
       "      <td>None</td>\n",
       "      <td>2017-07-27</td>\n",
       "      <td>16:25:51</td>\n",
       "    </tr>\n",
       "  </tbody>\n",
       "</table>\n",
       "</div>"
      ],
      "text/plain": [
       "             tweet_id                                               text  \\\n",
       "1  892177421306343426  This is Tilly. She's just checking pup on you....   \n",
       "2  891815181378084864  This is Archie. He is a rare Norwegian Pouncin...   \n",
       "4  891327558926688256  This is Franklin. He would like you to stop ca...   \n",
       "7  890729181411237888  When you watch your owner call another dog a g...   \n",
       "8  890609185150312448  This is Zoey. She doesn't want to be one of th...   \n",
       "\n",
       "   rating_numerator  rating_denominator      name doggo floofer pupper puppo  \\\n",
       "1                13                  10     Tilly  None    None   None  None   \n",
       "2                12                  10    Archie  None    None   None  None   \n",
       "4                12                  10  Franklin  None    None   None  None   \n",
       "7                13                  10      None  None    None   None  None   \n",
       "8                13                  10      Zoey  None    None   None  None   \n",
       "\n",
       "         date      time  \n",
       "1  2017-08-01  00:17:27  \n",
       "2  2017-07-31  00:18:03  \n",
       "4  2017-07-29  16:00:24  \n",
       "7  2017-07-28  00:22:40  \n",
       "8  2017-07-27  16:25:51  "
      ]
     },
     "execution_count": 246,
     "metadata": {},
     "output_type": "execute_result"
    }
   ],
   "source": [
    "# check the columns are created correctly\n",
    "\n",
    "twitter_df_clean.head()"
   ]
  },
  {
   "cell_type": "code",
   "execution_count": 247,
   "metadata": {},
   "outputs": [
    {
     "data": {
      "text/html": [
       "<div>\n",
       "<style scoped>\n",
       "    .dataframe tbody tr th:only-of-type {\n",
       "        vertical-align: middle;\n",
       "    }\n",
       "\n",
       "    .dataframe tbody tr th {\n",
       "        vertical-align: top;\n",
       "    }\n",
       "\n",
       "    .dataframe thead th {\n",
       "        text-align: right;\n",
       "    }\n",
       "</style>\n",
       "<table border=\"1\" class=\"dataframe\">\n",
       "  <thead>\n",
       "    <tr style=\"text-align: right;\">\n",
       "      <th></th>\n",
       "      <th>tweet_id</th>\n",
       "      <th>text</th>\n",
       "      <th>rating_numerator</th>\n",
       "      <th>rating_denominator</th>\n",
       "      <th>name</th>\n",
       "      <th>doggo</th>\n",
       "      <th>floofer</th>\n",
       "      <th>pupper</th>\n",
       "      <th>puppo</th>\n",
       "      <th>date</th>\n",
       "      <th>time</th>\n",
       "    </tr>\n",
       "  </thead>\n",
       "  <tbody>\n",
       "    <tr>\n",
       "      <th>1</th>\n",
       "      <td>892177421306343426</td>\n",
       "      <td>This is Tilly. She's just checking pup on you....</td>\n",
       "      <td>13</td>\n",
       "      <td>10</td>\n",
       "      <td>Tilly</td>\n",
       "      <td>None</td>\n",
       "      <td>None</td>\n",
       "      <td>None</td>\n",
       "      <td>None</td>\n",
       "      <td>2017-08-01</td>\n",
       "      <td>00:17:27</td>\n",
       "    </tr>\n",
       "    <tr>\n",
       "      <th>2</th>\n",
       "      <td>891815181378084864</td>\n",
       "      <td>This is Archie. He is a rare Norwegian Pouncin...</td>\n",
       "      <td>12</td>\n",
       "      <td>10</td>\n",
       "      <td>Archie</td>\n",
       "      <td>None</td>\n",
       "      <td>None</td>\n",
       "      <td>None</td>\n",
       "      <td>None</td>\n",
       "      <td>2017-07-31</td>\n",
       "      <td>00:18:03</td>\n",
       "    </tr>\n",
       "    <tr>\n",
       "      <th>4</th>\n",
       "      <td>891327558926688256</td>\n",
       "      <td>This is Franklin. He would like you to stop ca...</td>\n",
       "      <td>12</td>\n",
       "      <td>10</td>\n",
       "      <td>Franklin</td>\n",
       "      <td>None</td>\n",
       "      <td>None</td>\n",
       "      <td>None</td>\n",
       "      <td>None</td>\n",
       "      <td>2017-07-29</td>\n",
       "      <td>16:00:24</td>\n",
       "    </tr>\n",
       "    <tr>\n",
       "      <th>7</th>\n",
       "      <td>890729181411237888</td>\n",
       "      <td>When you watch your owner call another dog a g...</td>\n",
       "      <td>13</td>\n",
       "      <td>10</td>\n",
       "      <td>None</td>\n",
       "      <td>None</td>\n",
       "      <td>None</td>\n",
       "      <td>None</td>\n",
       "      <td>None</td>\n",
       "      <td>2017-07-28</td>\n",
       "      <td>00:22:40</td>\n",
       "    </tr>\n",
       "    <tr>\n",
       "      <th>8</th>\n",
       "      <td>890609185150312448</td>\n",
       "      <td>This is Zoey. She doesn't want to be one of th...</td>\n",
       "      <td>13</td>\n",
       "      <td>10</td>\n",
       "      <td>Zoey</td>\n",
       "      <td>None</td>\n",
       "      <td>None</td>\n",
       "      <td>None</td>\n",
       "      <td>None</td>\n",
       "      <td>2017-07-27</td>\n",
       "      <td>16:25:51</td>\n",
       "    </tr>\n",
       "  </tbody>\n",
       "</table>\n",
       "</div>"
      ],
      "text/plain": [
       "             tweet_id                                               text  \\\n",
       "1  892177421306343426  This is Tilly. She's just checking pup on you....   \n",
       "2  891815181378084864  This is Archie. He is a rare Norwegian Pouncin...   \n",
       "4  891327558926688256  This is Franklin. He would like you to stop ca...   \n",
       "7  890729181411237888  When you watch your owner call another dog a g...   \n",
       "8  890609185150312448  This is Zoey. She doesn't want to be one of th...   \n",
       "\n",
       "   rating_numerator  rating_denominator      name doggo floofer pupper puppo  \\\n",
       "1                13                  10     Tilly  None    None   None  None   \n",
       "2                12                  10    Archie  None    None   None  None   \n",
       "4                12                  10  Franklin  None    None   None  None   \n",
       "7                13                  10      None  None    None   None  None   \n",
       "8                13                  10      Zoey  None    None   None  None   \n",
       "\n",
       "         date      time  \n",
       "1  2017-08-01  00:17:27  \n",
       "2  2017-07-31  00:18:03  \n",
       "4  2017-07-29  16:00:24  \n",
       "7  2017-07-28  00:22:40  \n",
       "8  2017-07-27  16:25:51  "
      ]
     },
     "execution_count": 247,
     "metadata": {},
     "output_type": "execute_result"
    }
   ],
   "source": [
    "# check `timestamp` column is dropped \n",
    "\n",
    "twitter_df_clean.head()"
   ]
  },
  {
   "cell_type": "markdown",
   "metadata": {},
   "source": [
    "### Define\n",
    "### Tidiness\n",
    "##### `tweet_json_clean` table\n",
    "- merge `tweet_json_clean` table with `twitter_df_clean` table "
   ]
  },
  {
   "cell_type": "markdown",
   "metadata": {},
   "source": [
    "### Code"
   ]
  },
  {
   "cell_type": "code",
   "execution_count": 255,
   "metadata": {},
   "outputs": [],
   "source": [
    "# merge `tweet_json_clean` table with `twitter_df_clean` table \n",
    "\n",
    "twitter_df_clean = pd.merge(twitter_df_clean, tweet_json_clean, on = 'tweet_id')"
   ]
  },
  {
   "cell_type": "markdown",
   "metadata": {},
   "source": [
    "### Test"
   ]
  },
  {
   "cell_type": "code",
   "execution_count": 257,
   "metadata": {},
   "outputs": [
    {
     "data": {
      "text/html": [
       "<div>\n",
       "<style scoped>\n",
       "    .dataframe tbody tr th:only-of-type {\n",
       "        vertical-align: middle;\n",
       "    }\n",
       "\n",
       "    .dataframe tbody tr th {\n",
       "        vertical-align: top;\n",
       "    }\n",
       "\n",
       "    .dataframe thead th {\n",
       "        text-align: right;\n",
       "    }\n",
       "</style>\n",
       "<table border=\"1\" class=\"dataframe\">\n",
       "  <thead>\n",
       "    <tr style=\"text-align: right;\">\n",
       "      <th></th>\n",
       "      <th>tweet_id</th>\n",
       "      <th>text</th>\n",
       "      <th>rating_numerator</th>\n",
       "      <th>rating_denominator</th>\n",
       "      <th>name</th>\n",
       "      <th>doggo</th>\n",
       "      <th>floofer</th>\n",
       "      <th>pupper</th>\n",
       "      <th>puppo</th>\n",
       "      <th>date</th>\n",
       "      <th>time</th>\n",
       "      <th>favorite_count</th>\n",
       "      <th>retweet_count</th>\n",
       "    </tr>\n",
       "  </thead>\n",
       "  <tbody>\n",
       "    <tr>\n",
       "      <th>1510</th>\n",
       "      <td>666049248165822465</td>\n",
       "      <td>Here we have a 1949 1st generation vulpix. Enj...</td>\n",
       "      <td>5</td>\n",
       "      <td>10</td>\n",
       "      <td>None</td>\n",
       "      <td>None</td>\n",
       "      <td>None</td>\n",
       "      <td>None</td>\n",
       "      <td>None</td>\n",
       "      <td>2015-11-16</td>\n",
       "      <td>00:24:50</td>\n",
       "      <td>109</td>\n",
       "      <td>41</td>\n",
       "    </tr>\n",
       "    <tr>\n",
       "      <th>1511</th>\n",
       "      <td>666044226329800704</td>\n",
       "      <td>This is a purebred Piers Morgan. Loves to Netf...</td>\n",
       "      <td>6</td>\n",
       "      <td>10</td>\n",
       "      <td>a</td>\n",
       "      <td>None</td>\n",
       "      <td>None</td>\n",
       "      <td>None</td>\n",
       "      <td>None</td>\n",
       "      <td>2015-11-16</td>\n",
       "      <td>00:04:52</td>\n",
       "      <td>299</td>\n",
       "      <td>141</td>\n",
       "    </tr>\n",
       "    <tr>\n",
       "      <th>1512</th>\n",
       "      <td>666033412701032449</td>\n",
       "      <td>Here is a very happy pup. Big fan of well-main...</td>\n",
       "      <td>9</td>\n",
       "      <td>10</td>\n",
       "      <td>a</td>\n",
       "      <td>None</td>\n",
       "      <td>None</td>\n",
       "      <td>None</td>\n",
       "      <td>None</td>\n",
       "      <td>2015-11-15</td>\n",
       "      <td>23:21:54</td>\n",
       "      <td>125</td>\n",
       "      <td>44</td>\n",
       "    </tr>\n",
       "    <tr>\n",
       "      <th>1513</th>\n",
       "      <td>666029285002620928</td>\n",
       "      <td>This is a western brown Mitsubishi terrier. Up...</td>\n",
       "      <td>7</td>\n",
       "      <td>10</td>\n",
       "      <td>a</td>\n",
       "      <td>None</td>\n",
       "      <td>None</td>\n",
       "      <td>None</td>\n",
       "      <td>None</td>\n",
       "      <td>2015-11-15</td>\n",
       "      <td>23:05:30</td>\n",
       "      <td>129</td>\n",
       "      <td>47</td>\n",
       "    </tr>\n",
       "    <tr>\n",
       "      <th>1514</th>\n",
       "      <td>666020888022790149</td>\n",
       "      <td>Here we have a Japanese Irish Setter. Lost eye...</td>\n",
       "      <td>8</td>\n",
       "      <td>10</td>\n",
       "      <td>None</td>\n",
       "      <td>None</td>\n",
       "      <td>None</td>\n",
       "      <td>None</td>\n",
       "      <td>None</td>\n",
       "      <td>2015-11-15</td>\n",
       "      <td>22:32:08</td>\n",
       "      <td>2566</td>\n",
       "      <td>516</td>\n",
       "    </tr>\n",
       "  </tbody>\n",
       "</table>\n",
       "</div>"
      ],
      "text/plain": [
       "                tweet_id                                               text  \\\n",
       "1510  666049248165822465  Here we have a 1949 1st generation vulpix. Enj...   \n",
       "1511  666044226329800704  This is a purebred Piers Morgan. Loves to Netf...   \n",
       "1512  666033412701032449  Here is a very happy pup. Big fan of well-main...   \n",
       "1513  666029285002620928  This is a western brown Mitsubishi terrier. Up...   \n",
       "1514  666020888022790149  Here we have a Japanese Irish Setter. Lost eye...   \n",
       "\n",
       "      rating_numerator  rating_denominator  name doggo floofer pupper puppo  \\\n",
       "1510                 5                  10  None  None    None   None  None   \n",
       "1511                 6                  10     a  None    None   None  None   \n",
       "1512                 9                  10     a  None    None   None  None   \n",
       "1513                 7                  10     a  None    None   None  None   \n",
       "1514                 8                  10  None  None    None   None  None   \n",
       "\n",
       "            date      time  favorite_count  retweet_count  \n",
       "1510  2015-11-16  00:24:50             109             41  \n",
       "1511  2015-11-16  00:04:52             299            141  \n",
       "1512  2015-11-15  23:21:54             125             44  \n",
       "1513  2015-11-15  23:05:30             129             47  \n",
       "1514  2015-11-15  22:32:08            2566            516  "
      ]
     },
     "execution_count": 257,
     "metadata": {},
     "output_type": "execute_result"
    }
   ],
   "source": [
    "# check the merge is done correctly\n",
    "\n",
    "twitter_df_clean.tail()"
   ]
  },
  {
   "cell_type": "code",
   "execution_count": null,
   "metadata": {},
   "outputs": [],
   "source": []
  }
 ],
 "metadata": {
  "kernelspec": {
   "display_name": "Python [default]",
   "language": "python",
   "name": "python3"
  },
  "language_info": {
   "codemirror_mode": {
    "name": "ipython",
    "version": 3
   },
   "file_extension": ".py",
   "mimetype": "text/x-python",
   "name": "python",
   "nbconvert_exporter": "python",
   "pygments_lexer": "ipython3",
   "version": "3.6.4"
  }
 },
 "nbformat": 4,
 "nbformat_minor": 2
}
