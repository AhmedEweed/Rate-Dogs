{
 "cells": [
  {
   "cell_type": "code",
   "execution_count": 15,
   "metadata": {},
   "outputs": [],
   "source": [
    "# Import required libraries\n",
    "\n",
    "import requests\n",
    "import tweepy\n",
    "import pandas as pd\n",
    "import json\n",
    "import os\n",
    "import sys"
   ]
  },
  {
   "cell_type": "markdown",
   "metadata": {},
   "source": [
    "## Gathering data"
   ]
  },
  {
   "cell_type": "code",
   "execution_count": 2,
   "metadata": {},
   "outputs": [],
   "source": [
    "# Download the tweet image predictions tsv file via requests library\n",
    "\n",
    "url = 'https://d17h27t6h515a5.cloudfront.net/topher/2017/August/599fd2ad_image-predictions/image-predictions.tsv'\n",
    "response = requests.get(url)\n",
    "with open(url.split('/')[-1]), mode = 'wb') as file:\n",
    "    file.write(response.content)"
   ]
  },
  {
   "cell_type": "code",
   "execution_count": 3,
   "metadata": {},
   "outputs": [],
   "source": [
    "# Read `twitter archive enhanced.csv` file to get tweet ids for API\n",
    "\n",
    "twitter_archive = pd.read_csv('twitter-archive-enhanced.csv')\n",
    "# extract tweet ids only\n",
    "\n",
    "tweet_id = twitter_archive['tweet_id']"
   ]
  },
  {
   "cell_type": "code",
   "execution_count": 4,
   "metadata": {},
   "outputs": [],
   "source": [
    "# Authenticate Tweepy PI\n",
    "\n",
    "consumer_key = ''\n",
    "consumer_secret = ''\n",
    "access_token = ''\n",
    "access_secret = ''\n",
    "\n",
    "auth = tweepy.OAuthHandler(consumer_key, consumer_secret)\n",
    "auth.set_access_token(access_token, access_secret)\n",
    "api = tweepy.API(auth, wait_on_rate_limit = True, wait_on_rate_limit_notify = True,\n",
    "                 parser=tweepy.parsers.JSONParser())"
   ]
  },
  {
   "cell_type": "code",
   "execution_count": 13,
   "metadata": {
    "scrolled": false
   },
   "outputs": [
    {
     "name": "stdout",
     "output_type": "stream",
     "text": [
      "(<class 'tweepy.error.TweepError'>, TweepError([{'code': 144, 'message': 'No status found with that ID.'}],), <traceback object at 0x7f6be3bb30c8>)\n",
      "(<class 'tweepy.error.TweepError'>, TweepError([{'code': 144, 'message': 'No status found with that ID.'}],), <traceback object at 0x7f6be3a6d848>)\n",
      "(<class 'tweepy.error.TweepError'>, TweepError([{'code': 144, 'message': 'No status found with that ID.'}],), <traceback object at 0x7f6be39f7ac8>)\n",
      "(<class 'tweepy.error.TweepError'>, TweepError([{'code': 144, 'message': 'No status found with that ID.'}],), <traceback object at 0x7f6be398fc48>)\n",
      "(<class 'tweepy.error.TweepError'>, TweepError([{'code': 144, 'message': 'No status found with that ID.'}],), <traceback object at 0x7f6be3920488>)\n",
      "(<class 'tweepy.error.TweepError'>, TweepError([{'code': 144, 'message': 'No status found with that ID.'}],), <traceback object at 0x7f6be37bbe88>)\n",
      "(<class 'tweepy.error.TweepError'>, TweepError([{'code': 144, 'message': 'No status found with that ID.'}],), <traceback object at 0x7f6be3784548>)\n",
      "(<class 'tweepy.error.TweepError'>, TweepError([{'code': 144, 'message': 'No status found with that ID.'}],), <traceback object at 0x7f6be364fe08>)\n",
      "(<class 'tweepy.error.TweepError'>, TweepError([{'code': 144, 'message': 'No status found with that ID.'}],), <traceback object at 0x7f6be34cfb08>)\n",
      "(<class 'tweepy.error.TweepError'>, TweepError([{'code': 144, 'message': 'No status found with that ID.'}],), <traceback object at 0x7f6be310ac08>)\n",
      "(<class 'tweepy.error.TweepError'>, TweepError([{'code': 144, 'message': 'No status found with that ID.'}],), <traceback object at 0x7f6be2d700c8>)\n"
     ]
    },
    {
     "name": "stderr",
     "output_type": "stream",
     "text": [
      "Rate limit reached. Sleeping for: 135\n",
      "Rate limit reached. Sleeping for: 310\n"
     ]
    }
   ],
   "source": [
    "# Get tweet JSON data via tweet ID using Tweepy \n",
    "\n",
    "tweet_json = []\n",
    "error_list = []\n",
    "for i in tweet_id:\n",
    "    try:\n",
    "        tweet = api.get_status(i, tweet_mode = 'extended')\n",
    "        tweet_json.append(tweet)\n",
    "    except:\n",
    "        error_list.append(i)\n",
    "        continue"
   ]
  },
  {
   "cell_type": "code",
   "execution_count": 33,
   "metadata": {},
   "outputs": [
    {
     "data": {
      "text/plain": [
       "(2345, 11)"
      ]
     },
     "execution_count": 33,
     "metadata": {},
     "output_type": "execute_result"
    }
   ],
   "source": [
    "# Check code is working\n",
    "\n",
    "len(tweet_json), len(error_list)"
   ]
  },
  {
   "cell_type": "code",
   "execution_count": 16,
   "metadata": {},
   "outputs": [],
   "source": [
    "# Write JSON data to tweet_json.txt file with each tweet's JSON data on its own line\n",
    "\n",
    "with open('tweet_json.txt', 'w') as outfile:\n",
    "                json.dump(tweet_json, outfile, ensure_ascii= False, indent = True)"
   ]
  },
  {
   "cell_type": "code",
   "execution_count": 19,
   "metadata": {},
   "outputs": [],
   "source": [
    "# Read tweet_json.txt file into a pandas data frame \n",
    "\n",
    "tweet_df = pd.read_json('tweet_json.txt', orient = 'columns')"
   ]
  },
  {
   "cell_type": "code",
   "execution_count": 28,
   "metadata": {},
   "outputs": [
    {
     "name": "stdout",
     "output_type": "stream",
     "text": [
      "<class 'pandas.core.frame.DataFrame'>\n",
      "Int64Index: 2345 entries, 0 to 2344\n",
      "Data columns (total 32 columns):\n",
      "contributors                     0 non-null float64\n",
      "coordinates                      0 non-null float64\n",
      "created_at                       2345 non-null datetime64[ns]\n",
      "display_text_range               2345 non-null object\n",
      "entities                         2345 non-null object\n",
      "extended_entities                2069 non-null object\n",
      "favorite_count                   2345 non-null int64\n",
      "favorited                        2345 non-null bool\n",
      "full_text                        2345 non-null object\n",
      "geo                              0 non-null float64\n",
      "id                               2345 non-null int64\n",
      "id_str                           2345 non-null int64\n",
      "in_reply_to_screen_name          78 non-null object\n",
      "in_reply_to_status_id            78 non-null float64\n",
      "in_reply_to_status_id_str        78 non-null float64\n",
      "in_reply_to_user_id              78 non-null float64\n",
      "in_reply_to_user_id_str          78 non-null float64\n",
      "is_quote_status                  2345 non-null bool\n",
      "lang                             2345 non-null object\n",
      "place                            1 non-null object\n",
      "possibly_sensitive               2207 non-null float64\n",
      "possibly_sensitive_appealable    2207 non-null float64\n",
      "quoted_status                    24 non-null object\n",
      "quoted_status_id                 25 non-null float64\n",
      "quoted_status_id_str             25 non-null float64\n",
      "quoted_status_permalink          25 non-null object\n",
      "retweet_count                    2345 non-null int64\n",
      "retweeted                        2345 non-null bool\n",
      "retweeted_status                 170 non-null object\n",
      "source                           2345 non-null object\n",
      "truncated                        2345 non-null bool\n",
      "user                             2345 non-null object\n",
      "dtypes: bool(4), datetime64[ns](1), float64(11), int64(4), object(12)\n",
      "memory usage: 620.4+ KB\n"
     ]
    }
   ],
   "source": [
    "# Look at dataframe information\n",
    "\n",
    "tweet_df.info()"
   ]
  },
  {
   "cell_type": "code",
   "execution_count": 42,
   "metadata": {},
   "outputs": [],
   "source": [
    "# Extract only needed columns \n",
    "# Save it to tweet_df_trim \n",
    "\n",
    "tweet_df_trim = tweet_df[['id','favorite_count','retweet_count']]"
   ]
  },
  {
   "cell_type": "code",
   "execution_count": 43,
   "metadata": {},
   "outputs": [
    {
     "name": "stdout",
     "output_type": "stream",
     "text": [
      "<class 'pandas.core.frame.DataFrame'>\n",
      "Int64Index: 2345 entries, 0 to 2344\n",
      "Data columns (total 3 columns):\n",
      "id                2345 non-null int64\n",
      "favorite_count    2345 non-null int64\n",
      "retweet_count     2345 non-null int64\n",
      "dtypes: int64(3)\n",
      "memory usage: 153.3 KB\n"
     ]
    }
   ],
   "source": [
    "tweet_df_trim.info()"
   ]
  },
  {
   "cell_type": "code",
   "execution_count": 44,
   "metadata": {},
   "outputs": [
    {
     "data": {
      "text/html": [
       "<div>\n",
       "<style scoped>\n",
       "    .dataframe tbody tr th:only-of-type {\n",
       "        vertical-align: middle;\n",
       "    }\n",
       "\n",
       "    .dataframe tbody tr th {\n",
       "        vertical-align: top;\n",
       "    }\n",
       "\n",
       "    .dataframe thead th {\n",
       "        text-align: right;\n",
       "    }\n",
       "</style>\n",
       "<table border=\"1\" class=\"dataframe\">\n",
       "  <thead>\n",
       "    <tr style=\"text-align: right;\">\n",
       "      <th></th>\n",
       "      <th>id</th>\n",
       "      <th>favorite_count</th>\n",
       "      <th>retweet_count</th>\n",
       "    </tr>\n",
       "  </thead>\n",
       "  <tbody>\n",
       "    <tr>\n",
       "      <th>0</th>\n",
       "      <td>892420643555336193</td>\n",
       "      <td>38699</td>\n",
       "      <td>8561</td>\n",
       "    </tr>\n",
       "    <tr>\n",
       "      <th>1</th>\n",
       "      <td>892177421306343426</td>\n",
       "      <td>33173</td>\n",
       "      <td>6296</td>\n",
       "    </tr>\n",
       "    <tr>\n",
       "      <th>2</th>\n",
       "      <td>891815181378084864</td>\n",
       "      <td>24968</td>\n",
       "      <td>4177</td>\n",
       "    </tr>\n",
       "    <tr>\n",
       "      <th>3</th>\n",
       "      <td>891689557279858688</td>\n",
       "      <td>42087</td>\n",
       "      <td>8692</td>\n",
       "    </tr>\n",
       "    <tr>\n",
       "      <th>4</th>\n",
       "      <td>891327558926688256</td>\n",
       "      <td>40235</td>\n",
       "      <td>9454</td>\n",
       "    </tr>\n",
       "  </tbody>\n",
       "</table>\n",
       "</div>"
      ],
      "text/plain": [
       "                   id  favorite_count  retweet_count\n",
       "0  892420643555336193           38699           8561\n",
       "1  892177421306343426           33173           6296\n",
       "2  891815181378084864           24968           4177\n",
       "3  891689557279858688           42087           8692\n",
       "4  891327558926688256           40235           9454"
      ]
     },
     "execution_count": 44,
     "metadata": {},
     "output_type": "execute_result"
    }
   ],
   "source": [
    "tweet_df_trim.head()"
   ]
  },
  {
   "cell_type": "code",
   "execution_count": null,
   "metadata": {},
   "outputs": [],
   "source": []
  }
 ],
 "metadata": {
  "kernelspec": {
   "display_name": "Python [default]",
   "language": "python",
   "name": "python3"
  },
  "language_info": {
   "codemirror_mode": {
    "name": "ipython",
    "version": 3
   },
   "file_extension": ".py",
   "mimetype": "text/x-python",
   "name": "python",
   "nbconvert_exporter": "python",
   "pygments_lexer": "ipython3",
   "version": "3.6.4"
  }
 },
 "nbformat": 4,
 "nbformat_minor": 2
}
