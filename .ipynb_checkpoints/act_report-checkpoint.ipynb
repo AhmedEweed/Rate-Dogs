{
 "cells": [
  {
   "cell_type": "markdown",
   "metadata": {},
   "source": [
    "##### Upon finishing the wrangle process and storing the datasets in a csv file for later use,  \n",
    "\n",
    "##### I started to ask questions about the data like so:\n",
    "\n",
    "    1- what dog breed is most present in the dataset ?\n",
    "\n",
    "    2- what is the range of rating scores through the dataset (out of 10) ?\n",
    "\n",
    "    3- which year has the most tweets for the hashtag ?  \n",
    "    \n",
    "    4- is the rating score related to number of tweet's favorites ?\n",
    "\n",
    "    5- which dog breed has the most tweet favorites and retweets ?\n",
    "\n",
    "##### To answer those questions, datasets were explored and I divied in them.  \n",
    "##### and I started answering the questions one by one.\n",
    "##### let's see those answers and insights about the datasets"
   ]
  },
  {
   "cell_type": "markdown",
   "metadata": {},
   "source": [
    "### Question1: what dog breed is most present in the dataset ?"
   ]
  },
  {
   "cell_type": "markdown",
   "metadata": {},
   "source": [
    "##### to answer this question, I simply sorted the most robable prediction of the dog breed \n",
    "##### and got the heigest present breed in it  \n",
    "##### and it was `golden retriever` dog breed\n"
   ]
  },
  {
   "cell_type": "markdown",
   "metadata": {},
   "source": [
    "### Question2:  what is the range of rating scores through the dataset (out of 10) ?"
   ]
  },
  {
   "cell_type": "markdown",
   "metadata": {},
   "source": [
    "##### Upon this question, I looked first at the dataset to find out the range of values\n",
    "##### and I found a lot of incorect values in the `rating_denominator` column \n",
    "##### I corrected them all and removed irrelevant ones\n",
    "##### and for the `rating_numerator` column I simply picked the value frequency for it\n",
    "##### and found that a wide range from 1 to 165 exists\n",
    "##### but, the right range was from 10 to 13 with highest rate at 12\n",
    "##### and I made a plot to show that as you will see now:"
   ]
  },
  {
   "cell_type": "markdown",
   "metadata": {},
   "source": [
    "<img src=\"Rating_Values.png\", width=450, height=450>"
   ]
  },
  {
   "cell_type": "markdown",
   "metadata": {},
   "source": [
    "### Question3: which year has the most tweets for the hashtag ?"
   ]
  },
  {
   "cell_type": "markdown",
   "metadata": {},
   "source": [
    "##### Here I had to convert the `date` column to a `datetime` type to work with  \n",
    "##### then I counted every year occurrence in the whole dataset and saved it for later use\n",
    "##### finally, I plotted the years against the number of occurrence in the dataset\n",
    "##### and it looked like 2016 was the hottest year for the hashtag with nearly 800 tweets \n",
    "##### as shown in the plot below:"
   ]
  },
  {
   "cell_type": "markdown",
   "metadata": {},
   "source": [
    "<img src=\"Years_Activity.png\", width=450, height=450>"
   ]
  },
  {
   "cell_type": "markdown",
   "metadata": {},
   "source": [
    "### Question4: is the rating score related to number of tweet's favorites ?"
   ]
  },
  {
   "cell_type": "markdown",
   "metadata": {},
   "source": [
    "##### I simply plotted a scatter plot between Ratings and Favorite Count to find out the relation\n",
    "##### and the relaiton is obvious now, There is weak positive relation \n",
    "##### and to be sure I calculated the correlation value and it was 0.075\n",
    "##### the scatter plot is found below:"
   ]
  },
  {
   "cell_type": "markdown",
   "metadata": {},
   "source": [
    "<img src=\"Rate_Fav_rel.png\", width=450, height=450>"
   ]
  },
  {
   "cell_type": "markdown",
   "metadata": {},
   "source": [
    "### Question5: which dog breed has the most tweet favorites and retweets ?"
   ]
  },
  {
   "cell_type": "markdown",
   "metadata": {},
   "source": [
    "##### That was the hardest question to answer!\n",
    "##### for the variables to be observed is in two separate tables\n",
    "##### First I merged the two tables on matching `tweet id` and with only needed columns\n",
    "##### Second I renamed the breed column to `dog_breed` insted of `p1`\n",
    "##### Then I grouped the data by `dog_breed` and included the sum of each column of `favorite_counts` and `retweet_count`\n",
    "##### But, there was a problem!\n",
    "##### it turned out that there are 110 unique breeds in the dataset\n",
    "##### while trying to plot them all that wasnt't helpful rather insightful!\n",
    "##### I then turned to regrouping the dataset but now with `dog_group`\n",
    "##### I searched the internet and found a website of the `American Kennel Club` \n",
    "##### they provided a full description of dog groups and breeds and much more information \n",
    "##### you can find it [here]('https://www.akc.org/expert-advice/lifestyle/did-you-know/what-are-breed-groups/')\n",
    "##### So I started to map each dog breed to its group and aggregated the results with the sum of each column\n",
    "##### the results were fantastic! 110 breed values were binned into only 10 groups!\n",
    "##### Finally, I plotted the 3 variables with `favorite_count` and `retweet_count` on x and y axis\n",
    "##### and `dog_group` as line color\n",
    "##### the resulting plot says that `Sporting` group has the most favorites and retweets\n",
    "##### with nearly  3 Million favorites and  1 Million retweets"
   ]
  },
  {
   "cell_type": "markdown",
   "metadata": {},
   "source": [
    "<img src=\"Dog_Group.png\", width=450, height=450>"
   ]
  },
  {
   "cell_type": "code",
   "execution_count": null,
   "metadata": {},
   "outputs": [],
   "source": []
  }
 ],
 "metadata": {
  "kernelspec": {
   "display_name": "Python [default]",
   "language": "python",
   "name": "python3"
  },
  "language_info": {
   "codemirror_mode": {
    "name": "ipython",
    "version": 3
   },
   "file_extension": ".py",
   "mimetype": "text/x-python",
   "name": "python",
   "nbconvert_exporter": "python",
   "pygments_lexer": "ipython3",
   "version": "3.6.4"
  }
 },
 "nbformat": 4,
 "nbformat_minor": 2
}
