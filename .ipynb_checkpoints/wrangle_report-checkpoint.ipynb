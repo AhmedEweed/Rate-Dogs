{
 "cells": [
  {
   "cell_type": "markdown",
   "metadata": {},
   "source": [
    "# Introduction\n",
    "\n",
    "This report describes my efforts spent on gathering, assessing and cleaning datasets about `WeRateDogs` twitter\n",
    "hashtag tweet contents.  \n",
    "`WeRateDogs` is a twitter account that rates dog images tweeted on twitter which started in November 2015..  \n",
    "The report will be divided into Three portions for each phase of work:\n",
    "\n",
    "- Gather: this describes the efforts of collecting needed files and store them in aproperiate file extensions  \n",
    "\n",
    "- Asses: this describes the visual and programmatic display of data so that I can see any faults or errors  \n",
    "\n",
    "  and this phase is divided into two aspects:\n",
    "  \n",
    "  - Quality: mention the Quality issues found in each dataset\n",
    "  - Tidiness: mention the Tidiness issues found in each dataset    \n",
    "  \n",
    "- Clean: this describes the cleaning efforts and how I solved data-related problems  \n",
    "\n",
    "  and this phase is also divided into two aspects:\n",
    "  \n",
    "  - Quality: mention how the Quality issues found in each dataset were solved and cleared\n",
    "  - Tidiness: mention how the Tidiness issues found in each dataset were solved and cleared"
   ]
  },
  {
   "cell_type": "markdown",
   "metadata": {},
   "source": [
    "# Gather\n",
    "\n",
    "\n"
   ]
  },
  {
   "cell_type": "code",
   "execution_count": null,
   "metadata": {},
   "outputs": [],
   "source": []
  }
 ],
 "metadata": {
  "kernelspec": {
   "display_name": "Python [default]",
   "language": "python",
   "name": "python3"
  },
  "language_info": {
   "codemirror_mode": {
    "name": "ipython",
    "version": 3
   },
   "file_extension": ".py",
   "mimetype": "text/x-python",
   "name": "python",
   "nbconvert_exporter": "python",
   "pygments_lexer": "ipython3",
   "version": "3.6.4"
  }
 },
 "nbformat": 4,
 "nbformat_minor": 2
}
